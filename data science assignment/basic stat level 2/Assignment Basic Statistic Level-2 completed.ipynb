{
 "cells": [
  {
   "cell_type": "markdown",
   "id": "a7d813c5",
   "metadata": {},
   "source": [
    "# 1).The time required for servicing transmissions is normally distributed with  = 45 minutes and  = 8 minutes. The service manager plans to have work begin on the transmission of a customer’s car 10 minutes after the car is dropped off and the customer is told that the car will be ready within 1 hour from drop-off. What is the probability that the service manager cannot meet his commitment? "
   ]
  },
  {
   "cell_type": "code",
   "execution_count": 1,
   "id": "0ec332ab",
   "metadata": {
    "ExecuteTime": {
     "end_time": "2023-03-15T09:46:00.689200Z",
     "start_time": "2023-03-15T09:45:59.206338Z"
    }
   },
   "outputs": [],
   "source": [
    "from scipy import stats"
   ]
  },
  {
   "cell_type": "markdown",
   "id": "30a39515",
   "metadata": {},
   "source": [
    "mean=55(since 10 min late)"
   ]
  },
  {
   "cell_type": "code",
   "execution_count": 6,
   "id": "9b4afba9",
   "metadata": {
    "ExecuteTime": {
     "end_time": "2023-03-15T09:55:44.826503Z",
     "start_time": "2023-03-15T09:55:44.798038Z"
    }
   },
   "outputs": [
    {
     "data": {
      "text/plain": [
       "-0.625"
      ]
     },
     "execution_count": 6,
     "metadata": {},
     "output_type": "execute_result"
    }
   ],
   "source": [
    "z_score=(50-55)/8\n",
    "z_score."
   ]
  },
  {
   "cell_type": "markdown",
   "id": "01f87ab7",
   "metadata": {
    "ExecuteTime": {
     "end_time": "2023-03-15T10:47:18.414252Z",
     "start_time": "2023-03-15T10:47:18.389767Z"
    }
   },
   "source": [
    "required answer"
   ]
  },
  {
   "cell_type": "code",
   "execution_count": 8,
   "id": "6e4abc57",
   "metadata": {
    "ExecuteTime": {
     "end_time": "2023-03-15T10:46:08.938827Z",
     "start_time": "2023-03-15T10:46:08.923023Z"
    }
   },
   "outputs": [
    {
     "data": {
      "text/plain": [
       "0.26598552904870054"
      ]
     },
     "execution_count": 8,
     "metadata": {},
     "output_type": "execute_result"
    }
   ],
   "source": [
    "1-stats.norm.cdf(0.625)"
   ]
  },
  {
   "cell_type": "code",
   "execution_count": null,
   "id": "055273ba",
   "metadata": {},
   "outputs": [],
   "source": []
  },
  {
   "cell_type": "markdown",
   "id": "3df26b72",
   "metadata": {},
   "source": [
    "#### 2.The current age (in years) of 400 clerical employees at an insurance claims processing center is normally distributed with mean  = 38 and Standard deviation  =6. For each statement below, please specify True/False. If false, briefly explain why.\n",
    "\n",
    "A.More employees at the processing center are older than 44 than between 38 and 44.\n",
    "\n",
    "B.A training program for employees under the age of 30 at the center would be expected to attract about 36 employees."
   ]
  },
  {
   "cell_type": "code",
   "execution_count": 36,
   "id": "00b18403",
   "metadata": {
    "ExecuteTime": {
     "end_time": "2023-03-15T11:52:15.518781Z",
     "start_time": "2023-03-15T11:52:15.497541Z"
    }
   },
   "outputs": [
    {
     "data": {
      "text/plain": [
       "0.15865525393145707"
      ]
     },
     "execution_count": 36,
     "metadata": {},
     "output_type": "execute_result"
    }
   ],
   "source": [
    "#p(x>44)=\n",
    "1-stats.norm.cdf(44,38,6)"
   ]
  },
  {
   "cell_type": "code",
   "execution_count": 32,
   "id": "65082aaa",
   "metadata": {
    "ExecuteTime": {
     "end_time": "2023-03-15T11:49:29.053826Z",
     "start_time": "2023-03-15T11:49:29.032191Z"
    }
   },
   "outputs": [
    {
     "data": {
      "text/plain": [
       "0.3413447460685429"
      ]
     },
     "execution_count": 32,
     "metadata": {},
     "output_type": "execute_result"
    }
   ],
   "source": [
    "#p(38>x>44)=\n",
    "stats.norm.cdf(44,38,6)-stats.norm.cdf(38,38,6)"
   ]
  },
  {
   "cell_type": "markdown",
   "id": "de872a33",
   "metadata": {},
   "source": [
    "since   p(38>x>44)  >  p(x>44) .\n",
    "statement A  is false"
   ]
  },
  {
   "cell_type": "code",
   "execution_count": 20,
   "id": "2d0ef7ca",
   "metadata": {
    "ExecuteTime": {
     "end_time": "2023-03-15T11:07:26.351990Z",
     "start_time": "2023-03-15T11:07:26.340471Z"
    }
   },
   "outputs": [
    {
     "data": {
      "text/plain": [
       "0.09121121972586788"
      ]
     },
     "execution_count": 20,
     "metadata": {},
     "output_type": "execute_result"
    }
   ],
   "source": [
    "#p(x<30)=\n",
    "stats.norm.cdf(30,38,6)"
   ]
  },
  {
   "cell_type": "code",
   "execution_count": 21,
   "id": "88bcbc93",
   "metadata": {
    "ExecuteTime": {
     "end_time": "2023-03-15T11:08:38.940874Z",
     "start_time": "2023-03-15T11:08:38.910904Z"
    }
   },
   "outputs": [
    {
     "data": {
      "text/plain": [
       "36.484487890347154"
      ]
     },
     "execution_count": 21,
     "metadata": {},
     "output_type": "execute_result"
    }
   ],
   "source": [
    "#required number=\n",
    "400*stats.norm.cdf(30,38,6)"
   ]
  },
  {
   "cell_type": "markdown",
   "id": "7c80d82b",
   "metadata": {},
   "source": [
    "Bstatement B is true"
   ]
  },
  {
   "cell_type": "code",
   "execution_count": null,
   "id": "8a01eb50",
   "metadata": {},
   "outputs": [],
   "source": []
  },
  {
   "cell_type": "markdown",
   "id": "e1d4ddc4",
   "metadata": {},
   "source": [
    "### 3).If X1 ~ N(μ, σ2) and X2 ~ N(μ, σ2) are iid normal random variables, then what is the difference between 2 X1 and X1 + X2? Discuss both their distributions and parameters. "
   ]
  },
  {
   "cell_type": "code",
   "execution_count": null,
   "id": "a61bb977",
   "metadata": {},
   "outputs": [],
   "source": []
  },
  {
   "cell_type": "markdown",
   "id": "ffe46408",
   "metadata": {},
   "source": [
    "DOUBT"
   ]
  },
  {
   "cell_type": "code",
   "execution_count": null,
   "id": "b50633c9",
   "metadata": {},
   "outputs": [],
   "source": []
  },
  {
   "cell_type": "markdown",
   "id": "7dc4f415",
   "metadata": {},
   "source": [
    "### 4) Let X ~ N(100, 20^2). Find two values, a and b, symmetric about the mean, such that the probability of the random variable taking a value between them is 0.99. "
   ]
  },
  {
   "cell_type": "code",
   "execution_count": 22,
   "id": "b023c528",
   "metadata": {
    "ExecuteTime": {
     "end_time": "2023-03-15T11:28:58.551518Z",
     "start_time": "2023-03-15T11:28:58.532936Z"
    }
   },
   "outputs": [
    {
     "data": {
      "text/plain": [
       "(48.48341392902199, 151.516586070978)"
      ]
     },
     "execution_count": 22,
     "metadata": {},
     "output_type": "execute_result"
    }
   ],
   "source": [
    "#Ans=\n",
    "stats.norm.interval(0.99,100,20)"
   ]
  },
  {
   "cell_type": "markdown",
   "id": "5f41c63e",
   "metadata": {},
   "source": [
    "ANS: D"
   ]
  },
  {
   "cell_type": "code",
   "execution_count": null,
   "id": "920b6f98",
   "metadata": {},
   "outputs": [],
   "source": []
  },
  {
   "cell_type": "markdown",
   "id": "7c13f384",
   "metadata": {},
   "source": [
    "# 5) Consider a company that has two different divisions. The annual profits from the two divisions are independent and have distributions Profit1 ~ N(5, 3^2) and Profit2 ~ N(7, 4^2) respectively. Both the profits are in $ Million.Answer the following questions about the total profit of the company in Rupees. Assume that $1 = Rs. 45\n",
    "A.Specify a Rupee range (centered on the mean) such that it contains 95% probability for the annual profit of the company.              \n",
    "B.Specify the 5th percentile of profit (in Rupees) for the company                                \n",
    "C.Which of the two divisions has a larger probability of making a loss in a given year?"
   ]
  },
  {
   "cell_type": "code",
   "execution_count": 27,
   "id": "495cee6d",
   "metadata": {
    "ExecuteTime": {
     "end_time": "2023-03-15T11:45:47.347816Z",
     "start_time": "2023-03-15T11:45:47.333760Z"
    }
   },
   "outputs": [],
   "source": [
    "import numpy as np"
   ]
  },
  {
   "cell_type": "code",
   "execution_count": 39,
   "id": "f3125cdd",
   "metadata": {
    "ExecuteTime": {
     "end_time": "2023-03-15T12:04:23.871333Z",
     "start_time": "2023-03-15T12:04:23.852792Z"
    }
   },
   "outputs": [
    {
     "data": {
      "text/plain": [
       "225.0"
      ]
     },
     "execution_count": 39,
     "metadata": {},
     "output_type": "execute_result"
    }
   ],
   "source": [
    "#A)\n",
    "mean=(5+7)*45\n",
    "std=np.sqrt(9+16)*45"
   ]
  },
  {
   "cell_type": "code",
   "execution_count": 31,
   "id": "178eac8d",
   "metadata": {
    "ExecuteTime": {
     "end_time": "2023-03-15T11:48:24.176494Z",
     "start_time": "2023-03-15T11:48:24.162291Z"
    }
   },
   "outputs": [
    {
     "data": {
      "text/plain": [
       "(99.00810347848784, 980.9918965215122)"
      ]
     },
     "execution_count": 31,
     "metadata": {},
     "output_type": "execute_result"
    }
   ],
   "source": [
    "#required answer=\n",
    "stats.norm.interval(0.95,mean,std)"
   ]
  },
  {
   "cell_type": "code",
   "execution_count": null,
   "id": "8d403272",
   "metadata": {},
   "outputs": [],
   "source": []
  },
  {
   "cell_type": "code",
   "execution_count": 44,
   "id": "e1510b77",
   "metadata": {
    "ExecuteTime": {
     "end_time": "2023-03-15T12:06:14.400212Z",
     "start_time": "2023-03-15T12:06:14.384518Z"
    }
   },
   "outputs": [
    {
     "data": {
      "text/plain": [
       "169.875"
      ]
     },
     "execution_count": 44,
     "metadata": {},
     "output_type": "execute_result"
    }
   ],
   "source": [
    "#B)5th percentile profit=x+σz\n",
    "ans=mean+(std*-1.645)\n",
    "ans"
   ]
  },
  {
   "cell_type": "code",
   "execution_count": 49,
   "id": "6db87708",
   "metadata": {
    "ExecuteTime": {
     "end_time": "2023-03-15T12:08:10.216232Z",
     "start_time": "2023-03-15T12:08:10.200170Z"
    }
   },
   "outputs": [
    {
     "name": "stdout",
     "output_type": "stream",
     "text": [
      "5th percentile of profit (in Rupees) for the company is 169.875 millions\n"
     ]
    }
   ],
   "source": [
    "print('5th percentile of profit (in Rupees) for the company is',ans,'millions')"
   ]
  },
  {
   "cell_type": "code",
   "execution_count": null,
   "id": "e740b1f8",
   "metadata": {},
   "outputs": [],
   "source": []
  },
  {
   "cell_type": "code",
   "execution_count": 54,
   "id": "250c2dd8",
   "metadata": {
    "ExecuteTime": {
     "end_time": "2023-03-15T12:12:17.218829Z",
     "start_time": "2023-03-15T12:12:17.198133Z"
    }
   },
   "outputs": [
    {
     "data": {
      "text/plain": [
       "0.0477903522728147"
      ]
     },
     "execution_count": 54,
     "metadata": {},
     "output_type": "execute_result"
    }
   ],
   "source": [
    "#c)probability of division 1 making loss=p(x<0)=\n",
    "stats.norm.cdf(0,5,3)\n"
   ]
  },
  {
   "cell_type": "code",
   "execution_count": 53,
   "id": "7451f2f2",
   "metadata": {
    "ExecuteTime": {
     "end_time": "2023-03-15T12:11:47.849181Z",
     "start_time": "2023-03-15T12:11:47.823395Z"
    }
   },
   "outputs": [
    {
     "data": {
      "text/plain": [
       "0.040059156863817086"
      ]
     },
     "execution_count": 53,
     "metadata": {},
     "output_type": "execute_result"
    }
   ],
   "source": [
    "#probability of division 2 making loss=p(x<0)=\n",
    "stats.norm.cdf(0,7,4)"
   ]
  },
  {
   "cell_type": "markdown",
   "id": "d439211e",
   "metadata": {},
   "source": [
    "probability of division 1 making loss > probability of division 2 making loss"
   ]
  },
  {
   "cell_type": "code",
   "execution_count": null,
   "id": "2ab76e61",
   "metadata": {},
   "outputs": [],
   "source": []
  },
  {
   "cell_type": "code",
   "execution_count": null,
   "id": "598aba5e",
   "metadata": {},
   "outputs": [],
   "source": []
  }
 ],
 "metadata": {
  "kernelspec": {
   "display_name": "Python 3 (ipykernel)",
   "language": "python",
   "name": "python3"
  },
  "language_info": {
   "codemirror_mode": {
    "name": "ipython",
    "version": 3
   },
   "file_extension": ".py",
   "mimetype": "text/x-python",
   "name": "python",
   "nbconvert_exporter": "python",
   "pygments_lexer": "ipython3",
   "version": "3.9.13"
  }
 },
 "nbformat": 4,
 "nbformat_minor": 5
}
