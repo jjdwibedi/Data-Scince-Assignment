{
 "cells": [
  {
   "cell_type": "markdown",
   "id": "6d4e81c2",
   "metadata": {},
   "source": [
    "# Q1)"
   ]
  },
  {
   "cell_type": "raw",
   "id": "c77f5e71",
   "metadata": {},
   "source": [
    "# Q1)\n",
    "The dataset contains 36733 instances of 11 sensor measures aggregated over one hour (by means of average or sum) from a gas turbine. \n",
    "The Dataset includes gas turbine parameters (such as Turbine Inlet Temperature and Compressor Discharge pressure) in addition to the ambient variables.\n",
    "\n",
    "\n",
    "\n",
    "Problem statement: predicting turbine energy yield (TEY) using ambient variables as features.\n",
    "\n",
    "\n",
    "\n",
    "Attribute Information:\n",
    "\n",
    "The explanations of sensor measurements and their brief statistics are given below.\n",
    "\n",
    "Variable (Abbr.) Unit Min Max Mean\n",
    "Ambient temperature (AT) C â€“6.23 37.10 17.71\n",
    "Ambient pressure (AP) mbar 985.85 1036.56 1013.07\n",
    "Ambient humidity (AH) (%) 24.08 100.20 77.87\n",
    "Air filter difference pressure (AFDP) mbar 2.09 7.61 3.93\n",
    "Gas turbine exhaust pressure (GTEP) mbar 17.70 40.72 25.56\n",
    "Turbine inlet temperature (TIT) C 1000.85 1100.89 1081.43\n",
    "Turbine after temperature (TAT) C 511.04 550.61 546.16\n",
    "Compressor discharge pressure (CDP) mbar 9.85 15.16 12.06\n",
    "Turbine energy yield (TEY) MWH 100.02 179.50 133.51\n",
    "Carbon monoxide (CO) mg/m3 0.00 44.10 2.37\n",
    "Nitrogen oxides (NOx) mg/m3 25.90 119.91 65.29"
   ]
  },
  {
   "cell_type": "code",
   "execution_count": 1,
   "id": "c60a99f5",
   "metadata": {
    "ExecuteTime": {
     "end_time": "2023-03-23T10:18:00.795464Z",
     "start_time": "2023-03-23T10:17:55.187440Z"
    }
   },
   "outputs": [],
   "source": [
    "#load the libraries\n",
    "import pandas as pd\n",
    "import numpy as np\n",
    "from sklearn.model_selection import train_test_split, cross_val_score\n",
    "import seaborn as sns\n",
    "from matplotlib import pyplot as plt\n",
    "%matplotlib inline\n",
    "import tensorflow as tf\n",
    "tf.debugging.set_log_device_placement(False) \n",
    "import warnings\n",
    "warnings.filterwarnings('ignore')"
   ]
  },
  {
   "cell_type": "code",
   "execution_count": 2,
   "id": "b2522277",
   "metadata": {
    "ExecuteTime": {
     "end_time": "2023-03-23T10:18:00.827427Z",
     "start_time": "2023-03-23T10:18:00.795464Z"
    }
   },
   "outputs": [],
   "source": [
    "# Generating reproducible results from same code\n",
    "tf.random.set_seed(14) "
   ]
  },
  {
   "cell_type": "code",
   "execution_count": 3,
   "id": "2d13a1ff",
   "metadata": {
    "ExecuteTime": {
     "end_time": "2023-03-23T10:18:00.890994Z",
     "start_time": "2023-03-23T10:18:00.827427Z"
    }
   },
   "outputs": [
    {
     "data": {
      "text/html": [
       "<div>\n",
       "<style scoped>\n",
       "    .dataframe tbody tr th:only-of-type {\n",
       "        vertical-align: middle;\n",
       "    }\n",
       "\n",
       "    .dataframe tbody tr th {\n",
       "        vertical-align: top;\n",
       "    }\n",
       "\n",
       "    .dataframe thead th {\n",
       "        text-align: right;\n",
       "    }\n",
       "</style>\n",
       "<table border=\"1\" class=\"dataframe\">\n",
       "  <thead>\n",
       "    <tr style=\"text-align: right;\">\n",
       "      <th></th>\n",
       "      <th>AT</th>\n",
       "      <th>AP</th>\n",
       "      <th>AH</th>\n",
       "      <th>AFDP</th>\n",
       "      <th>GTEP</th>\n",
       "      <th>TIT</th>\n",
       "      <th>TAT</th>\n",
       "      <th>TEY</th>\n",
       "      <th>CDP</th>\n",
       "      <th>CO</th>\n",
       "      <th>NOX</th>\n",
       "    </tr>\n",
       "  </thead>\n",
       "  <tbody>\n",
       "    <tr>\n",
       "      <th>0</th>\n",
       "      <td>6.8594</td>\n",
       "      <td>1007.9</td>\n",
       "      <td>96.799</td>\n",
       "      <td>3.5000</td>\n",
       "      <td>19.663</td>\n",
       "      <td>1059.2</td>\n",
       "      <td>550.00</td>\n",
       "      <td>114.70</td>\n",
       "      <td>10.605</td>\n",
       "      <td>3.1547</td>\n",
       "      <td>82.722</td>\n",
       "    </tr>\n",
       "    <tr>\n",
       "      <th>1</th>\n",
       "      <td>6.7850</td>\n",
       "      <td>1008.4</td>\n",
       "      <td>97.118</td>\n",
       "      <td>3.4998</td>\n",
       "      <td>19.728</td>\n",
       "      <td>1059.3</td>\n",
       "      <td>550.00</td>\n",
       "      <td>114.72</td>\n",
       "      <td>10.598</td>\n",
       "      <td>3.2363</td>\n",
       "      <td>82.776</td>\n",
       "    </tr>\n",
       "    <tr>\n",
       "      <th>2</th>\n",
       "      <td>6.8977</td>\n",
       "      <td>1008.8</td>\n",
       "      <td>95.939</td>\n",
       "      <td>3.4824</td>\n",
       "      <td>19.779</td>\n",
       "      <td>1059.4</td>\n",
       "      <td>549.87</td>\n",
       "      <td>114.71</td>\n",
       "      <td>10.601</td>\n",
       "      <td>3.2012</td>\n",
       "      <td>82.468</td>\n",
       "    </tr>\n",
       "    <tr>\n",
       "      <th>3</th>\n",
       "      <td>7.0569</td>\n",
       "      <td>1009.2</td>\n",
       "      <td>95.249</td>\n",
       "      <td>3.4805</td>\n",
       "      <td>19.792</td>\n",
       "      <td>1059.6</td>\n",
       "      <td>549.99</td>\n",
       "      <td>114.72</td>\n",
       "      <td>10.606</td>\n",
       "      <td>3.1923</td>\n",
       "      <td>82.670</td>\n",
       "    </tr>\n",
       "    <tr>\n",
       "      <th>4</th>\n",
       "      <td>7.3978</td>\n",
       "      <td>1009.7</td>\n",
       "      <td>95.150</td>\n",
       "      <td>3.4976</td>\n",
       "      <td>19.765</td>\n",
       "      <td>1059.7</td>\n",
       "      <td>549.98</td>\n",
       "      <td>114.72</td>\n",
       "      <td>10.612</td>\n",
       "      <td>3.2484</td>\n",
       "      <td>82.311</td>\n",
       "    </tr>\n",
       "  </tbody>\n",
       "</table>\n",
       "</div>"
      ],
      "text/plain": [
       "       AT      AP      AH    AFDP    GTEP     TIT     TAT     TEY     CDP  \\\n",
       "0  6.8594  1007.9  96.799  3.5000  19.663  1059.2  550.00  114.70  10.605   \n",
       "1  6.7850  1008.4  97.118  3.4998  19.728  1059.3  550.00  114.72  10.598   \n",
       "2  6.8977  1008.8  95.939  3.4824  19.779  1059.4  549.87  114.71  10.601   \n",
       "3  7.0569  1009.2  95.249  3.4805  19.792  1059.6  549.99  114.72  10.606   \n",
       "4  7.3978  1009.7  95.150  3.4976  19.765  1059.7  549.98  114.72  10.612   \n",
       "\n",
       "       CO     NOX  \n",
       "0  3.1547  82.722  \n",
       "1  3.2363  82.776  \n",
       "2  3.2012  82.468  \n",
       "3  3.1923  82.670  \n",
       "4  3.2484  82.311  "
      ]
     },
     "execution_count": 3,
     "metadata": {},
     "output_type": "execute_result"
    }
   ],
   "source": [
    "raw = pd.read_csv(\"gas_turbines.csv\")\n",
    "raw.head() \n",
    "#TEY is the variable we should predict."
   ]
  },
  {
   "cell_type": "code",
   "execution_count": 4,
   "id": "fc598833",
   "metadata": {
    "ExecuteTime": {
     "end_time": "2023-03-23T10:18:00.938612Z",
     "start_time": "2023-03-23T10:18:00.890994Z"
    }
   },
   "outputs": [
    {
     "data": {
      "text/html": [
       "<div>\n",
       "<style scoped>\n",
       "    .dataframe tbody tr th:only-of-type {\n",
       "        vertical-align: middle;\n",
       "    }\n",
       "\n",
       "    .dataframe tbody tr th {\n",
       "        vertical-align: top;\n",
       "    }\n",
       "\n",
       "    .dataframe thead th {\n",
       "        text-align: right;\n",
       "    }\n",
       "</style>\n",
       "<table border=\"1\" class=\"dataframe\">\n",
       "  <thead>\n",
       "    <tr style=\"text-align: right;\">\n",
       "      <th></th>\n",
       "      <th>AT</th>\n",
       "      <th>AP</th>\n",
       "      <th>AH</th>\n",
       "      <th>TEY</th>\n",
       "    </tr>\n",
       "  </thead>\n",
       "  <tbody>\n",
       "    <tr>\n",
       "      <th>0</th>\n",
       "      <td>6.8594</td>\n",
       "      <td>1007.9</td>\n",
       "      <td>96.799</td>\n",
       "      <td>114.70</td>\n",
       "    </tr>\n",
       "    <tr>\n",
       "      <th>1</th>\n",
       "      <td>6.7850</td>\n",
       "      <td>1008.4</td>\n",
       "      <td>97.118</td>\n",
       "      <td>114.72</td>\n",
       "    </tr>\n",
       "    <tr>\n",
       "      <th>2</th>\n",
       "      <td>6.8977</td>\n",
       "      <td>1008.8</td>\n",
       "      <td>95.939</td>\n",
       "      <td>114.71</td>\n",
       "    </tr>\n",
       "    <tr>\n",
       "      <th>3</th>\n",
       "      <td>7.0569</td>\n",
       "      <td>1009.2</td>\n",
       "      <td>95.249</td>\n",
       "      <td>114.72</td>\n",
       "    </tr>\n",
       "    <tr>\n",
       "      <th>4</th>\n",
       "      <td>7.3978</td>\n",
       "      <td>1009.7</td>\n",
       "      <td>95.150</td>\n",
       "      <td>114.72</td>\n",
       "    </tr>\n",
       "  </tbody>\n",
       "</table>\n",
       "</div>"
      ],
      "text/plain": [
       "       AT      AP      AH     TEY\n",
       "0  6.8594  1007.9  96.799  114.70\n",
       "1  6.7850  1008.4  97.118  114.72\n",
       "2  6.8977  1008.8  95.939  114.71\n",
       "3  7.0569  1009.2  95.249  114.72\n",
       "4  7.3978  1009.7  95.150  114.72"
      ]
     },
     "execution_count": 4,
     "metadata": {},
     "output_type": "execute_result"
    }
   ],
   "source": [
    "df = raw.copy() \n",
    "df = df.drop(['AFDP','GTEP','TIT','TAT','CDP','CO','NOX'],axis=1)\n",
    "df.head()"
   ]
  },
  {
   "cell_type": "code",
   "execution_count": 5,
   "id": "a480d830",
   "metadata": {
    "ExecuteTime": {
     "end_time": "2023-03-23T10:18:00.970290Z",
     "start_time": "2023-03-23T10:18:00.938612Z"
    }
   },
   "outputs": [
    {
     "name": "stdout",
     "output_type": "stream",
     "text": [
      "<class 'pandas.core.frame.DataFrame'>\n",
      "RangeIndex: 15039 entries, 0 to 15038\n",
      "Data columns (total 4 columns):\n",
      " #   Column  Non-Null Count  Dtype  \n",
      "---  ------  --------------  -----  \n",
      " 0   AT      15039 non-null  float64\n",
      " 1   AP      15039 non-null  float64\n",
      " 2   AH      15039 non-null  float64\n",
      " 3   TEY     15039 non-null  float64\n",
      "dtypes: float64(4)\n",
      "memory usage: 470.1 KB\n"
     ]
    }
   ],
   "source": [
    "df.info()"
   ]
  },
  {
   "cell_type": "code",
   "execution_count": 6,
   "id": "da9ac304",
   "metadata": {
    "ExecuteTime": {
     "end_time": "2023-03-23T10:18:01.017947Z",
     "start_time": "2023-03-23T10:18:00.970290Z"
    }
   },
   "outputs": [
    {
     "data": {
      "text/html": [
       "<div>\n",
       "<style scoped>\n",
       "    .dataframe tbody tr th:only-of-type {\n",
       "        vertical-align: middle;\n",
       "    }\n",
       "\n",
       "    .dataframe tbody tr th {\n",
       "        vertical-align: top;\n",
       "    }\n",
       "\n",
       "    .dataframe thead th {\n",
       "        text-align: right;\n",
       "    }\n",
       "</style>\n",
       "<table border=\"1\" class=\"dataframe\">\n",
       "  <thead>\n",
       "    <tr style=\"text-align: right;\">\n",
       "      <th></th>\n",
       "      <th>AT</th>\n",
       "      <th>AP</th>\n",
       "      <th>AH</th>\n",
       "      <th>TEY</th>\n",
       "    </tr>\n",
       "  </thead>\n",
       "  <tbody>\n",
       "    <tr>\n",
       "      <th>count</th>\n",
       "      <td>15039.000000</td>\n",
       "      <td>15039.00000</td>\n",
       "      <td>15039.000000</td>\n",
       "      <td>15039.000000</td>\n",
       "    </tr>\n",
       "    <tr>\n",
       "      <th>mean</th>\n",
       "      <td>17.764381</td>\n",
       "      <td>1013.19924</td>\n",
       "      <td>79.124174</td>\n",
       "      <td>134.188464</td>\n",
       "    </tr>\n",
       "    <tr>\n",
       "      <th>std</th>\n",
       "      <td>7.574323</td>\n",
       "      <td>6.41076</td>\n",
       "      <td>13.793439</td>\n",
       "      <td>15.829717</td>\n",
       "    </tr>\n",
       "    <tr>\n",
       "      <th>min</th>\n",
       "      <td>0.522300</td>\n",
       "      <td>985.85000</td>\n",
       "      <td>30.344000</td>\n",
       "      <td>100.170000</td>\n",
       "    </tr>\n",
       "    <tr>\n",
       "      <th>25%</th>\n",
       "      <td>11.408000</td>\n",
       "      <td>1008.90000</td>\n",
       "      <td>69.750000</td>\n",
       "      <td>127.985000</td>\n",
       "    </tr>\n",
       "    <tr>\n",
       "      <th>50%</th>\n",
       "      <td>18.186000</td>\n",
       "      <td>1012.80000</td>\n",
       "      <td>82.266000</td>\n",
       "      <td>133.780000</td>\n",
       "    </tr>\n",
       "    <tr>\n",
       "      <th>75%</th>\n",
       "      <td>23.862500</td>\n",
       "      <td>1016.90000</td>\n",
       "      <td>90.043500</td>\n",
       "      <td>140.895000</td>\n",
       "    </tr>\n",
       "    <tr>\n",
       "      <th>max</th>\n",
       "      <td>34.929000</td>\n",
       "      <td>1034.20000</td>\n",
       "      <td>100.200000</td>\n",
       "      <td>174.610000</td>\n",
       "    </tr>\n",
       "  </tbody>\n",
       "</table>\n",
       "</div>"
      ],
      "text/plain": [
       "                 AT           AP            AH           TEY\n",
       "count  15039.000000  15039.00000  15039.000000  15039.000000\n",
       "mean      17.764381   1013.19924     79.124174    134.188464\n",
       "std        7.574323      6.41076     13.793439     15.829717\n",
       "min        0.522300    985.85000     30.344000    100.170000\n",
       "25%       11.408000   1008.90000     69.750000    127.985000\n",
       "50%       18.186000   1012.80000     82.266000    133.780000\n",
       "75%       23.862500   1016.90000     90.043500    140.895000\n",
       "max       34.929000   1034.20000    100.200000    174.610000"
      ]
     },
     "execution_count": 6,
     "metadata": {},
     "output_type": "execute_result"
    }
   ],
   "source": [
    "df.describe()"
   ]
  },
  {
   "cell_type": "code",
   "execution_count": 7,
   "id": "9c780a50",
   "metadata": {
    "ExecuteTime": {
     "end_time": "2023-03-23T10:18:06.699796Z",
     "start_time": "2023-03-23T10:18:06.668510Z"
    }
   },
   "outputs": [],
   "source": [
    "X =df.iloc[:,:-1]\n",
    "Y = df.iloc[:,-1]\n",
    "\n",
    "\n",
    "X_train, X_test, y_train, y_test = train_test_split(X,Y, test_size = 0.3)"
   ]
  },
  {
   "cell_type": "code",
   "execution_count": 8,
   "id": "06a195e1",
   "metadata": {
    "ExecuteTime": {
     "end_time": "2023-03-23T10:18:07.124532Z",
     "start_time": "2023-03-23T10:18:07.093245Z"
    }
   },
   "outputs": [],
   "source": [
    "y_train=np.reshape(y_train.to_numpy(), (-1,1)) \n",
    "y_test=np.reshape(y_test.to_numpy(), (-1,1)) "
   ]
  },
  {
   "cell_type": "code",
   "execution_count": 9,
   "id": "3e723ed7",
   "metadata": {
    "ExecuteTime": {
     "end_time": "2023-03-23T10:18:07.640268Z",
     "start_time": "2023-03-23T10:18:07.608974Z"
    }
   },
   "outputs": [
    {
     "name": "stdout",
     "output_type": "stream",
     "text": [
      "MinMaxScaler()\n",
      "MinMaxScaler()\n",
      "MinMaxScaler()\n",
      "MinMaxScaler()\n"
     ]
    }
   ],
   "source": [
    "from sklearn.preprocessing import MinMaxScaler\n",
    "\n",
    "scaler_x = MinMaxScaler()\n",
    "scaler_y = MinMaxScaler()\n",
    "\n",
    "print(scaler_x.fit(X_train))\n",
    "xtrain_scale=scaler_x.transform(X_train)\n",
    "\n",
    "print(scaler_x.fit(X_test))\n",
    "xtest_scale=scaler_x.transform(X_test)\n",
    "\n",
    "print(scaler_y.fit(y_train))\n",
    "ytrain_scale=scaler_y.transform(y_train)\n",
    "\n",
    "print(scaler_y.fit(y_test))\n",
    "ytest_scale=scaler_y.transform(y_test)"
   ]
  },
  {
   "cell_type": "code",
   "execution_count": 10,
   "id": "56c19a53",
   "metadata": {
    "ExecuteTime": {
     "end_time": "2023-03-23T10:18:08.453991Z",
     "start_time": "2023-03-23T10:18:08.438849Z"
    }
   },
   "outputs": [
    {
     "data": {
      "text/plain": [
       "10527"
      ]
     },
     "execution_count": 10,
     "metadata": {},
     "output_type": "execute_result"
    }
   ],
   "source": [
    "len(xtrain_scale)"
   ]
  },
  {
   "cell_type": "markdown",
   "id": "48438d96",
   "metadata": {},
   "source": [
    "# building neural network model\n"
   ]
  },
  {
   "cell_type": "code",
   "execution_count": 11,
   "id": "8a81fbc0",
   "metadata": {
    "ExecuteTime": {
     "end_time": "2023-03-23T10:18:09.268368Z",
     "start_time": "2023-03-23T10:18:09.236065Z"
    }
   },
   "outputs": [],
   "source": [
    "# Create your first MLP in Keras\n",
    "import keras \n",
    "from keras.models import Sequential\n",
    "from keras.layers import Dense"
   ]
  },
  {
   "cell_type": "code",
   "execution_count": 12,
   "id": "17a12698",
   "metadata": {
    "ExecuteTime": {
     "end_time": "2023-03-23T10:18:35.101903Z",
     "start_time": "2023-03-23T10:18:09.520246Z"
    }
   },
   "outputs": [
    {
     "name": "stdout",
     "output_type": "stream",
     "text": [
      "Epoch 1/100\n",
      "48/48 [==============================] - 1s 9ms/step - loss: 0.0724 - mse: 0.0724 - mae: 0.2082 - val_loss: 0.0473 - val_mse: 0.0473 - val_mae: 0.1625\n",
      "Epoch 2/100\n",
      "48/48 [==============================] - 0s 5ms/step - loss: 0.0461 - mse: 0.0461 - mae: 0.1558 - val_loss: 0.0460 - val_mse: 0.0460 - val_mae: 0.1540\n",
      "Epoch 3/100\n",
      "48/48 [==============================] - 0s 5ms/step - loss: 0.0454 - mse: 0.0454 - mae: 0.1540 - val_loss: 0.0455 - val_mse: 0.0455 - val_mae: 0.1560\n",
      "Epoch 4/100\n",
      "48/48 [==============================] - 0s 5ms/step - loss: 0.0447 - mse: 0.0447 - mae: 0.1541 - val_loss: 0.0450 - val_mse: 0.0450 - val_mae: 0.1578\n",
      "Epoch 5/100\n",
      "48/48 [==============================] - 0s 5ms/step - loss: 0.0438 - mse: 0.0438 - mae: 0.1559 - val_loss: 0.0436 - val_mse: 0.0436 - val_mae: 0.1571\n",
      "Epoch 6/100\n",
      "48/48 [==============================] - 0s 5ms/step - loss: 0.0428 - mse: 0.0428 - mae: 0.1572 - val_loss: 0.0428 - val_mse: 0.0428 - val_mae: 0.1595\n",
      "Epoch 7/100\n",
      "48/48 [==============================] - 0s 5ms/step - loss: 0.0421 - mse: 0.0421 - mae: 0.1590 - val_loss: 0.0429 - val_mse: 0.0429 - val_mae: 0.1644\n",
      "Epoch 8/100\n",
      "48/48 [==============================] - 0s 5ms/step - loss: 0.0422 - mse: 0.0422 - mae: 0.1615 - val_loss: 0.0421 - val_mse: 0.0421 - val_mae: 0.1635\n",
      "Epoch 9/100\n",
      "48/48 [==============================] - 0s 5ms/step - loss: 0.0417 - mse: 0.0417 - mae: 0.1615 - val_loss: 0.0429 - val_mse: 0.0429 - val_mae: 0.1630\n",
      "Epoch 10/100\n",
      "48/48 [==============================] - 0s 5ms/step - loss: 0.0414 - mse: 0.0414 - mae: 0.1609 - val_loss: 0.0433 - val_mse: 0.0433 - val_mae: 0.1629\n",
      "Epoch 11/100\n",
      "48/48 [==============================] - 0s 5ms/step - loss: 0.0420 - mse: 0.0420 - mae: 0.1621 - val_loss: 0.0418 - val_mse: 0.0418 - val_mae: 0.1633\n",
      "Epoch 12/100\n",
      "48/48 [==============================] - 0s 5ms/step - loss: 0.0410 - mse: 0.0410 - mae: 0.1605 - val_loss: 0.0418 - val_mse: 0.0418 - val_mae: 0.1616\n",
      "Epoch 13/100\n",
      "48/48 [==============================] - 0s 5ms/step - loss: 0.0411 - mse: 0.0411 - mae: 0.1618 - val_loss: 0.0415 - val_mse: 0.0415 - val_mae: 0.1626\n",
      "Epoch 14/100\n",
      "48/48 [==============================] - 0s 5ms/step - loss: 0.0409 - mse: 0.0409 - mae: 0.1597 - val_loss: 0.0414 - val_mse: 0.0414 - val_mae: 0.1639\n",
      "Epoch 15/100\n",
      "48/48 [==============================] - 0s 5ms/step - loss: 0.0410 - mse: 0.0410 - mae: 0.1620 - val_loss: 0.0430 - val_mse: 0.0430 - val_mae: 0.1614\n",
      "Epoch 16/100\n",
      "48/48 [==============================] - 0s 5ms/step - loss: 0.0412 - mse: 0.0412 - mae: 0.1602 - val_loss: 0.0417 - val_mse: 0.0417 - val_mae: 0.1651\n",
      "Epoch 17/100\n",
      "48/48 [==============================] - 0s 5ms/step - loss: 0.0415 - mse: 0.0415 - mae: 0.1604 - val_loss: 0.0425 - val_mse: 0.0425 - val_mae: 0.1627\n",
      "Epoch 18/100\n",
      "48/48 [==============================] - 0s 5ms/step - loss: 0.0418 - mse: 0.0418 - mae: 0.1635 - val_loss: 0.0412 - val_mse: 0.0412 - val_mae: 0.1637\n",
      "Epoch 19/100\n",
      "48/48 [==============================] - 0s 5ms/step - loss: 0.0405 - mse: 0.0405 - mae: 0.1603 - val_loss: 0.0419 - val_mse: 0.0419 - val_mae: 0.1614\n",
      "Epoch 20/100\n",
      "48/48 [==============================] - 0s 5ms/step - loss: 0.0404 - mse: 0.0404 - mae: 0.1605 - val_loss: 0.0409 - val_mse: 0.0409 - val_mae: 0.1617\n",
      "Epoch 21/100\n",
      "48/48 [==============================] - 0s 6ms/step - loss: 0.0403 - mse: 0.0403 - mae: 0.1597 - val_loss: 0.0408 - val_mse: 0.0408 - val_mae: 0.1599\n",
      "Epoch 22/100\n",
      "48/48 [==============================] - 0s 5ms/step - loss: 0.0401 - mse: 0.0401 - mae: 0.1587 - val_loss: 0.0408 - val_mse: 0.0408 - val_mae: 0.1597\n",
      "Epoch 23/100\n",
      "48/48 [==============================] - 0s 5ms/step - loss: 0.0399 - mse: 0.0399 - mae: 0.1588 - val_loss: 0.0410 - val_mse: 0.0410 - val_mae: 0.1594\n",
      "Epoch 24/100\n",
      "48/48 [==============================] - 0s 5ms/step - loss: 0.0403 - mse: 0.0403 - mae: 0.1588 - val_loss: 0.0406 - val_mse: 0.0406 - val_mae: 0.1595\n",
      "Epoch 25/100\n",
      "48/48 [==============================] - 0s 5ms/step - loss: 0.0397 - mse: 0.0397 - mae: 0.1580 - val_loss: 0.0417 - val_mse: 0.0417 - val_mae: 0.1603\n",
      "Epoch 26/100\n",
      "48/48 [==============================] - 0s 5ms/step - loss: 0.0400 - mse: 0.0400 - mae: 0.1588 - val_loss: 0.0403 - val_mse: 0.0403 - val_mae: 0.1589\n",
      "Epoch 27/100\n",
      "48/48 [==============================] - 0s 5ms/step - loss: 0.0396 - mse: 0.0396 - mae: 0.1580 - val_loss: 0.0400 - val_mse: 0.0400 - val_mae: 0.1591\n",
      "Epoch 28/100\n",
      "48/48 [==============================] - 0s 5ms/step - loss: 0.0396 - mse: 0.0396 - mae: 0.1580 - val_loss: 0.0420 - val_mse: 0.0420 - val_mae: 0.1620\n",
      "Epoch 29/100\n",
      "48/48 [==============================] - 0s 5ms/step - loss: 0.0406 - mse: 0.0406 - mae: 0.1601 - val_loss: 0.0399 - val_mse: 0.0399 - val_mae: 0.1582\n",
      "Epoch 30/100\n",
      "48/48 [==============================] - 0s 5ms/step - loss: 0.0393 - mse: 0.0393 - mae: 0.1570 - val_loss: 0.0421 - val_mse: 0.0421 - val_mae: 0.1631\n",
      "Epoch 31/100\n",
      "48/48 [==============================] - 0s 6ms/step - loss: 0.0404 - mse: 0.0404 - mae: 0.1601 - val_loss: 0.0399 - val_mse: 0.0399 - val_mae: 0.1573\n",
      "Epoch 32/100\n",
      "48/48 [==============================] - 0s 5ms/step - loss: 0.0393 - mse: 0.0393 - mae: 0.1565 - val_loss: 0.0398 - val_mse: 0.0398 - val_mae: 0.1586\n",
      "Epoch 33/100\n",
      "48/48 [==============================] - 0s 5ms/step - loss: 0.0393 - mse: 0.0393 - mae: 0.1569 - val_loss: 0.0398 - val_mse: 0.0398 - val_mae: 0.1589\n",
      "Epoch 34/100\n",
      "48/48 [==============================] - 0s 5ms/step - loss: 0.0391 - mse: 0.0391 - mae: 0.1568 - val_loss: 0.0403 - val_mse: 0.0403 - val_mae: 0.1611\n",
      "Epoch 35/100\n",
      "48/48 [==============================] - 0s 6ms/step - loss: 0.0395 - mse: 0.0395 - mae: 0.1583 - val_loss: 0.0400 - val_mse: 0.0400 - val_mae: 0.1598\n",
      "Epoch 36/100\n",
      "48/48 [==============================] - 0s 5ms/step - loss: 0.0396 - mse: 0.0396 - mae: 0.1577 - val_loss: 0.0402 - val_mse: 0.0402 - val_mae: 0.1594\n",
      "Epoch 37/100\n",
      "48/48 [==============================] - 0s 5ms/step - loss: 0.0390 - mse: 0.0390 - mae: 0.1568 - val_loss: 0.0397 - val_mse: 0.0397 - val_mae: 0.1578\n",
      "Epoch 38/100\n",
      "48/48 [==============================] - 0s 5ms/step - loss: 0.0393 - mse: 0.0393 - mae: 0.1573 - val_loss: 0.0399 - val_mse: 0.0399 - val_mae: 0.1585\n",
      "Epoch 39/100\n",
      "48/48 [==============================] - 0s 5ms/step - loss: 0.0393 - mse: 0.0393 - mae: 0.1566 - val_loss: 0.0402 - val_mse: 0.0402 - val_mae: 0.1607\n",
      "Epoch 40/100\n",
      "48/48 [==============================] - 0s 5ms/step - loss: 0.0395 - mse: 0.0395 - mae: 0.1579 - val_loss: 0.0398 - val_mse: 0.0398 - val_mae: 0.1590\n",
      "Epoch 41/100\n",
      "48/48 [==============================] - 0s 5ms/step - loss: 0.0393 - mse: 0.0393 - mae: 0.1580 - val_loss: 0.0397 - val_mse: 0.0397 - val_mae: 0.1585\n",
      "Epoch 42/100\n",
      "48/48 [==============================] - 0s 5ms/step - loss: 0.0390 - mse: 0.0390 - mae: 0.1567 - val_loss: 0.0398 - val_mse: 0.0398 - val_mae: 0.1581\n",
      "Epoch 43/100\n",
      "48/48 [==============================] - 0s 5ms/step - loss: 0.0391 - mse: 0.0391 - mae: 0.1569 - val_loss: 0.0398 - val_mse: 0.0398 - val_mae: 0.1593\n",
      "Epoch 44/100\n",
      "48/48 [==============================] - 0s 6ms/step - loss: 0.0393 - mse: 0.0393 - mae: 0.1581 - val_loss: 0.0397 - val_mse: 0.0397 - val_mae: 0.1574\n",
      "Epoch 45/100\n",
      "48/48 [==============================] - 0s 5ms/step - loss: 0.0392 - mse: 0.0392 - mae: 0.1567 - val_loss: 0.0417 - val_mse: 0.0417 - val_mae: 0.1624\n",
      "Epoch 46/100\n",
      "48/48 [==============================] - 0s 5ms/step - loss: 0.0394 - mse: 0.0394 - mae: 0.1574 - val_loss: 0.0399 - val_mse: 0.0399 - val_mae: 0.1588\n",
      "Epoch 47/100\n",
      "48/48 [==============================] - 0s 5ms/step - loss: 0.0391 - mse: 0.0391 - mae: 0.1566 - val_loss: 0.0400 - val_mse: 0.0400 - val_mae: 0.1585\n",
      "Epoch 48/100\n",
      "48/48 [==============================] - 0s 5ms/step - loss: 0.0393 - mse: 0.0393 - mae: 0.1571 - val_loss: 0.0416 - val_mse: 0.0416 - val_mae: 0.1642\n",
      "Epoch 49/100\n",
      "48/48 [==============================] - 0s 5ms/step - loss: 0.0406 - mse: 0.0406 - mae: 0.1597 - val_loss: 0.0398 - val_mse: 0.0398 - val_mae: 0.1579\n",
      "Epoch 50/100\n",
      "48/48 [==============================] - 0s 5ms/step - loss: 0.0392 - mse: 0.0392 - mae: 0.1559 - val_loss: 0.0397 - val_mse: 0.0397 - val_mae: 0.1581\n",
      "Epoch 51/100\n",
      "48/48 [==============================] - 0s 5ms/step - loss: 0.0393 - mse: 0.0393 - mae: 0.1580 - val_loss: 0.0401 - val_mse: 0.0401 - val_mae: 0.1581\n",
      "Epoch 52/100\n",
      "48/48 [==============================] - 0s 5ms/step - loss: 0.0395 - mse: 0.0395 - mae: 0.1565 - val_loss: 0.0398 - val_mse: 0.0398 - val_mae: 0.1584\n",
      "Epoch 53/100\n",
      "48/48 [==============================] - 0s 5ms/step - loss: 0.0390 - mse: 0.0390 - mae: 0.1565 - val_loss: 0.0430 - val_mse: 0.0430 - val_mae: 0.1677\n",
      "Epoch 54/100\n",
      "48/48 [==============================] - 0s 5ms/step - loss: 0.0399 - mse: 0.0399 - mae: 0.1588 - val_loss: 0.0397 - val_mse: 0.0397 - val_mae: 0.1573\n",
      "Epoch 55/100\n",
      "48/48 [==============================] - 0s 5ms/step - loss: 0.0392 - mse: 0.0392 - mae: 0.1563 - val_loss: 0.0396 - val_mse: 0.0396 - val_mae: 0.1577\n",
      "Epoch 56/100\n",
      "48/48 [==============================] - 0s 5ms/step - loss: 0.0391 - mse: 0.0391 - mae: 0.1562 - val_loss: 0.0406 - val_mse: 0.0406 - val_mae: 0.1600\n",
      "Epoch 57/100\n",
      "48/48 [==============================] - 0s 5ms/step - loss: 0.0390 - mse: 0.0390 - mae: 0.1561 - val_loss: 0.0396 - val_mse: 0.0396 - val_mae: 0.1581\n",
      "Epoch 58/100\n",
      "48/48 [==============================] - 0s 5ms/step - loss: 0.0392 - mse: 0.0392 - mae: 0.1568 - val_loss: 0.0404 - val_mse: 0.0404 - val_mae: 0.1597\n",
      "Epoch 59/100\n",
      "48/48 [==============================] - 0s 5ms/step - loss: 0.0393 - mse: 0.0393 - mae: 0.1568 - val_loss: 0.0397 - val_mse: 0.0397 - val_mae: 0.1579\n",
      "Epoch 60/100\n",
      "48/48 [==============================] - 0s 5ms/step - loss: 0.0389 - mse: 0.0389 - mae: 0.1558 - val_loss: 0.0396 - val_mse: 0.0396 - val_mae: 0.1576\n",
      "Epoch 61/100\n",
      "48/48 [==============================] - 0s 5ms/step - loss: 0.0388 - mse: 0.0388 - mae: 0.1567 - val_loss: 0.0400 - val_mse: 0.0400 - val_mae: 0.1578\n",
      "Epoch 62/100\n",
      "48/48 [==============================] - 0s 5ms/step - loss: 0.0390 - mse: 0.0390 - mae: 0.1561 - val_loss: 0.0395 - val_mse: 0.0395 - val_mae: 0.1573\n",
      "Epoch 63/100\n",
      "48/48 [==============================] - 0s 5ms/step - loss: 0.0389 - mse: 0.0389 - mae: 0.1558 - val_loss: 0.0396 - val_mse: 0.0396 - val_mae: 0.1569\n",
      "Epoch 64/100\n",
      "48/48 [==============================] - 0s 5ms/step - loss: 0.0391 - mse: 0.0391 - mae: 0.1563 - val_loss: 0.0397 - val_mse: 0.0397 - val_mae: 0.1576\n",
      "Epoch 65/100\n",
      "48/48 [==============================] - 0s 5ms/step - loss: 0.0390 - mse: 0.0390 - mae: 0.1561 - val_loss: 0.0395 - val_mse: 0.0395 - val_mae: 0.1569\n",
      "Epoch 66/100\n",
      "48/48 [==============================] - 0s 5ms/step - loss: 0.0389 - mse: 0.0389 - mae: 0.1560 - val_loss: 0.0395 - val_mse: 0.0395 - val_mae: 0.1577\n",
      "Epoch 67/100\n",
      "48/48 [==============================] - 0s 5ms/step - loss: 0.0390 - mse: 0.0390 - mae: 0.1551 - val_loss: 0.0405 - val_mse: 0.0405 - val_mae: 0.1597\n",
      "Epoch 68/100\n",
      "48/48 [==============================] - 0s 5ms/step - loss: 0.0390 - mse: 0.0390 - mae: 0.1559 - val_loss: 0.0415 - val_mse: 0.0415 - val_mae: 0.1618\n",
      "Epoch 69/100\n",
      "48/48 [==============================] - 0s 5ms/step - loss: 0.0394 - mse: 0.0394 - mae: 0.1569 - val_loss: 0.0395 - val_mse: 0.0395 - val_mae: 0.1583\n",
      "Epoch 70/100\n",
      "48/48 [==============================] - 0s 5ms/step - loss: 0.0387 - mse: 0.0387 - mae: 0.1560 - val_loss: 0.0394 - val_mse: 0.0394 - val_mae: 0.1572\n",
      "Epoch 71/100\n",
      "48/48 [==============================] - 0s 5ms/step - loss: 0.0387 - mse: 0.0387 - mae: 0.1563 - val_loss: 0.0400 - val_mse: 0.0400 - val_mae: 0.1584\n",
      "Epoch 72/100\n",
      "48/48 [==============================] - 0s 5ms/step - loss: 0.0387 - mse: 0.0387 - mae: 0.1552 - val_loss: 0.0397 - val_mse: 0.0397 - val_mae: 0.1585\n",
      "Epoch 73/100\n",
      "48/48 [==============================] - 0s 5ms/step - loss: 0.0393 - mse: 0.0393 - mae: 0.1578 - val_loss: 0.0397 - val_mse: 0.0397 - val_mae: 0.1568\n",
      "Epoch 74/100\n",
      "48/48 [==============================] - 0s 5ms/step - loss: 0.0388 - mse: 0.0388 - mae: 0.1553 - val_loss: 0.0400 - val_mse: 0.0400 - val_mae: 0.1582\n",
      "Epoch 75/100\n",
      "48/48 [==============================] - 0s 5ms/step - loss: 0.0387 - mse: 0.0387 - mae: 0.1560 - val_loss: 0.0396 - val_mse: 0.0396 - val_mae: 0.1558\n",
      "Epoch 76/100\n",
      "48/48 [==============================] - 0s 5ms/step - loss: 0.0388 - mse: 0.0388 - mae: 0.1552 - val_loss: 0.0394 - val_mse: 0.0394 - val_mae: 0.1557\n",
      "Epoch 77/100\n",
      "48/48 [==============================] - 0s 5ms/step - loss: 0.0384 - mse: 0.0384 - mae: 0.1532 - val_loss: 0.0398 - val_mse: 0.0398 - val_mae: 0.1587\n",
      "Epoch 78/100\n",
      "48/48 [==============================] - 0s 5ms/step - loss: 0.0389 - mse: 0.0389 - mae: 0.1552 - val_loss: 0.0416 - val_mse: 0.0416 - val_mae: 0.1619\n",
      "Epoch 79/100\n",
      "48/48 [==============================] - 0s 5ms/step - loss: 0.0419 - mse: 0.0419 - mae: 0.1629 - val_loss: 0.0396 - val_mse: 0.0396 - val_mae: 0.1551\n",
      "Epoch 80/100\n",
      "48/48 [==============================] - 0s 5ms/step - loss: 0.0385 - mse: 0.0385 - mae: 0.1541 - val_loss: 0.0401 - val_mse: 0.0401 - val_mae: 0.1590\n",
      "Epoch 81/100\n",
      "48/48 [==============================] - 0s 5ms/step - loss: 0.0387 - mse: 0.0387 - mae: 0.1543 - val_loss: 0.0393 - val_mse: 0.0393 - val_mae: 0.1572\n",
      "Epoch 82/100\n",
      "48/48 [==============================] - 0s 5ms/step - loss: 0.0384 - mse: 0.0384 - mae: 0.1539 - val_loss: 0.0393 - val_mse: 0.0393 - val_mae: 0.1570\n",
      "Epoch 83/100\n",
      "48/48 [==============================] - 0s 5ms/step - loss: 0.0385 - mse: 0.0385 - mae: 0.1539 - val_loss: 0.0393 - val_mse: 0.0393 - val_mae: 0.1560\n",
      "Epoch 84/100\n",
      "48/48 [==============================] - 0s 5ms/step - loss: 0.0385 - mse: 0.0385 - mae: 0.1543 - val_loss: 0.0394 - val_mse: 0.0394 - val_mae: 0.1559\n",
      "Epoch 85/100\n",
      "48/48 [==============================] - 0s 5ms/step - loss: 0.0389 - mse: 0.0389 - mae: 0.1547 - val_loss: 0.0404 - val_mse: 0.0404 - val_mae: 0.1593\n",
      "Epoch 86/100\n",
      "48/48 [==============================] - 0s 5ms/step - loss: 0.0387 - mse: 0.0387 - mae: 0.1548 - val_loss: 0.0394 - val_mse: 0.0394 - val_mae: 0.1566\n",
      "Epoch 87/100\n",
      "48/48 [==============================] - 0s 5ms/step - loss: 0.0385 - mse: 0.0385 - mae: 0.1542 - val_loss: 0.0395 - val_mse: 0.0395 - val_mae: 0.1558\n",
      "Epoch 88/100\n",
      "48/48 [==============================] - 0s 5ms/step - loss: 0.0387 - mse: 0.0387 - mae: 0.1544 - val_loss: 0.0401 - val_mse: 0.0401 - val_mae: 0.1584\n",
      "Epoch 89/100\n",
      "48/48 [==============================] - 0s 5ms/step - loss: 0.0386 - mse: 0.0386 - mae: 0.1544 - val_loss: 0.0393 - val_mse: 0.0393 - val_mae: 0.1573\n",
      "Epoch 90/100\n",
      "48/48 [==============================] - 0s 5ms/step - loss: 0.0385 - mse: 0.0385 - mae: 0.1539 - val_loss: 0.0396 - val_mse: 0.0396 - val_mae: 0.1572\n",
      "Epoch 91/100\n",
      "48/48 [==============================] - 0s 5ms/step - loss: 0.0386 - mse: 0.0386 - mae: 0.1546 - val_loss: 0.0393 - val_mse: 0.0393 - val_mae: 0.1566\n",
      "Epoch 92/100\n",
      "48/48 [==============================] - 0s 5ms/step - loss: 0.0384 - mse: 0.0384 - mae: 0.1541 - val_loss: 0.0396 - val_mse: 0.0396 - val_mae: 0.1564\n",
      "Epoch 93/100\n",
      "48/48 [==============================] - 0s 5ms/step - loss: 0.0387 - mse: 0.0387 - mae: 0.1549 - val_loss: 0.0395 - val_mse: 0.0395 - val_mae: 0.1567\n",
      "Epoch 94/100\n",
      "48/48 [==============================] - 0s 5ms/step - loss: 0.0385 - mse: 0.0385 - mae: 0.1546 - val_loss: 0.0392 - val_mse: 0.0392 - val_mae: 0.1568\n",
      "Epoch 95/100\n",
      "48/48 [==============================] - 0s 6ms/step - loss: 0.0384 - mse: 0.0384 - mae: 0.1532 - val_loss: 0.0400 - val_mse: 0.0400 - val_mae: 0.1582\n",
      "Epoch 96/100\n",
      "48/48 [==============================] - 0s 5ms/step - loss: 0.0386 - mse: 0.0386 - mae: 0.1538 - val_loss: 0.0393 - val_mse: 0.0393 - val_mae: 0.1572\n",
      "Epoch 97/100\n",
      "48/48 [==============================] - 0s 5ms/step - loss: 0.0390 - mse: 0.0390 - mae: 0.1568 - val_loss: 0.0394 - val_mse: 0.0394 - val_mae: 0.1560\n",
      "Epoch 98/100\n",
      "48/48 [==============================] - 0s 5ms/step - loss: 0.0386 - mse: 0.0386 - mae: 0.1554 - val_loss: 0.0400 - val_mse: 0.0400 - val_mae: 0.1588\n",
      "Epoch 99/100\n",
      "48/48 [==============================] - 0s 5ms/step - loss: 0.0384 - mse: 0.0384 - mae: 0.1542 - val_loss: 0.0392 - val_mse: 0.0392 - val_mae: 0.1563\n",
      "Epoch 100/100\n",
      "48/48 [==============================] - 0s 5ms/step - loss: 0.0383 - mse: 0.0383 - mae: 0.1541 - val_loss: 0.0395 - val_mse: 0.0395 - val_mae: 0.1562\n"
     ]
    }
   ],
   "source": [
    "# create model\n",
    "model1 = Sequential()\n",
    "model1.add(Dense(4, input_dim=3, kernel_initializer='normal', activation='relu'))\n",
    "model1.add(Dense(2106,kernel_initializer='normal', activation='relu'))\n",
    "model1.add(Dense(1, activation='linear'))\n",
    "# Compile model\n",
    "model1.compile(loss='mean_squared_error', optimizer='adam', metrics=['mse','mae'])\n",
    "# Fit the model\n",
    "hist1 = model1.fit(xtrain_scale, ytrain_scale, validation_split=0.33, epochs=100, batch_size=150)\n",
    "#At epoch 50, mse and mae just keeps oscillating back and forth"
   ]
  },
  {
   "cell_type": "code",
   "execution_count": 13,
   "id": "efa7a566",
   "metadata": {
    "ExecuteTime": {
     "end_time": "2023-03-23T10:18:35.132906Z",
     "start_time": "2023-03-23T10:18:35.101903Z"
    }
   },
   "outputs": [
    {
     "name": "stdout",
     "output_type": "stream",
     "text": [
      "Model: \"sequential\"\n",
      "_________________________________________________________________\n",
      " Layer (type)                Output Shape              Param #   \n",
      "=================================================================\n",
      " dense (Dense)               (None, 4)                 16        \n",
      "                                                                 \n",
      " dense_1 (Dense)             (None, 2106)              10530     \n",
      "                                                                 \n",
      " dense_2 (Dense)             (None, 1)                 2107      \n",
      "                                                                 \n",
      "=================================================================\n",
      "Total params: 12,653\n",
      "Trainable params: 12,653\n",
      "Non-trainable params: 0\n",
      "_________________________________________________________________\n"
     ]
    }
   ],
   "source": [
    "model1.summary() "
   ]
  },
  {
   "cell_type": "code",
   "execution_count": 14,
   "id": "810ee9cf",
   "metadata": {
    "ExecuteTime": {
     "end_time": "2023-03-23T10:18:35.464058Z",
     "start_time": "2023-03-23T10:18:35.132906Z"
    }
   },
   "outputs": [
    {
     "name": "stdout",
     "output_type": "stream",
     "text": [
      "141/141 [==============================] - 0s 900us/step\n"
     ]
    }
   ],
   "source": [
    "y_predict = model1.predict(xtest_scale)"
   ]
  },
  {
   "cell_type": "code",
   "execution_count": 15,
   "id": "8fedfbfd",
   "metadata": {
    "ExecuteTime": {
     "end_time": "2023-03-23T10:18:35.479852Z",
     "start_time": "2023-03-23T10:18:35.464058Z"
    }
   },
   "outputs": [
    {
     "name": "stdout",
     "output_type": "stream",
     "text": [
      "dict_keys(['loss', 'mse', 'mae', 'val_loss', 'val_mse', 'val_mae'])\n"
     ]
    }
   ],
   "source": [
    "print(hist1.history.keys())"
   ]
  },
  {
   "cell_type": "code",
   "execution_count": 16,
   "id": "f667252e",
   "metadata": {
    "ExecuteTime": {
     "end_time": "2023-03-23T10:18:35.511581Z",
     "start_time": "2023-03-23T10:18:35.479852Z"
    }
   },
   "outputs": [
    {
     "data": {
      "text/html": [
       "<div>\n",
       "<style scoped>\n",
       "    .dataframe tbody tr th:only-of-type {\n",
       "        vertical-align: middle;\n",
       "    }\n",
       "\n",
       "    .dataframe tbody tr th {\n",
       "        vertical-align: top;\n",
       "    }\n",
       "\n",
       "    .dataframe thead th {\n",
       "        text-align: right;\n",
       "    }\n",
       "</style>\n",
       "<table border=\"1\" class=\"dataframe\">\n",
       "  <thead>\n",
       "    <tr style=\"text-align: right;\">\n",
       "      <th></th>\n",
       "      <th>loss</th>\n",
       "      <th>mse</th>\n",
       "      <th>mae</th>\n",
       "      <th>val_loss</th>\n",
       "      <th>val_mse</th>\n",
       "      <th>val_mae</th>\n",
       "      <th>epoch</th>\n",
       "    </tr>\n",
       "  </thead>\n",
       "  <tbody>\n",
       "    <tr>\n",
       "      <th>95</th>\n",
       "      <td>0.038568</td>\n",
       "      <td>0.038568</td>\n",
       "      <td>0.153775</td>\n",
       "      <td>0.039253</td>\n",
       "      <td>0.039253</td>\n",
       "      <td>0.157169</td>\n",
       "      <td>95</td>\n",
       "    </tr>\n",
       "    <tr>\n",
       "      <th>96</th>\n",
       "      <td>0.038988</td>\n",
       "      <td>0.038988</td>\n",
       "      <td>0.156832</td>\n",
       "      <td>0.039362</td>\n",
       "      <td>0.039362</td>\n",
       "      <td>0.156031</td>\n",
       "      <td>96</td>\n",
       "    </tr>\n",
       "    <tr>\n",
       "      <th>97</th>\n",
       "      <td>0.038637</td>\n",
       "      <td>0.038637</td>\n",
       "      <td>0.155428</td>\n",
       "      <td>0.039952</td>\n",
       "      <td>0.039952</td>\n",
       "      <td>0.158820</td>\n",
       "      <td>97</td>\n",
       "    </tr>\n",
       "    <tr>\n",
       "      <th>98</th>\n",
       "      <td>0.038407</td>\n",
       "      <td>0.038407</td>\n",
       "      <td>0.154242</td>\n",
       "      <td>0.039245</td>\n",
       "      <td>0.039245</td>\n",
       "      <td>0.156319</td>\n",
       "      <td>98</td>\n",
       "    </tr>\n",
       "    <tr>\n",
       "      <th>99</th>\n",
       "      <td>0.038329</td>\n",
       "      <td>0.038329</td>\n",
       "      <td>0.154138</td>\n",
       "      <td>0.039465</td>\n",
       "      <td>0.039465</td>\n",
       "      <td>0.156183</td>\n",
       "      <td>99</td>\n",
       "    </tr>\n",
       "  </tbody>\n",
       "</table>\n",
       "</div>"
      ],
      "text/plain": [
       "        loss       mse       mae  val_loss   val_mse   val_mae  epoch\n",
       "95  0.038568  0.038568  0.153775  0.039253  0.039253  0.157169     95\n",
       "96  0.038988  0.038988  0.156832  0.039362  0.039362  0.156031     96\n",
       "97  0.038637  0.038637  0.155428  0.039952  0.039952  0.158820     97\n",
       "98  0.038407  0.038407  0.154242  0.039245  0.039245  0.156319     98\n",
       "99  0.038329  0.038329  0.154138  0.039465  0.039465  0.156183     99"
      ]
     },
     "execution_count": 16,
     "metadata": {},
     "output_type": "execute_result"
    }
   ],
   "source": [
    "hist1_df = pd.DataFrame(hist1.history)\n",
    "hist1_df[\"epoch\"]=hist1.epoch\n",
    "hist1_df.tail()"
   ]
  },
  {
   "cell_type": "code",
   "execution_count": 17,
   "id": "c3fa6d7a",
   "metadata": {
    "ExecuteTime": {
     "end_time": "2023-03-23T10:18:35.731057Z",
     "start_time": "2023-03-23T10:18:35.511581Z"
    }
   },
   "outputs": [
    {
     "data": {
      "image/png": "[encoded data removed]",
      "text/plain": [
       "<Figure size 600x400 with 1 Axes>"
      ]
     },
     "metadata": {},
     "output_type": "display_data"
    }
   ],
   "source": [
    "# summarize history for Loss\n",
    "\n",
    "sns.set(rc={'figure.figsize':(6,4)})\n",
    "\n",
    "plt.plot(hist1.history['loss'])\n",
    "plt.plot(hist1.history['val_loss'])\n",
    "plt.title('model1 loss')\n",
    "plt.ylabel('loss')\n",
    "plt.xlabel('epoch')\n",
    "plt.legend(['train', 'test'], loc='upper left')\n",
    "plt.show()"
   ]
  },
  {
   "cell_type": "code",
   "execution_count": 18,
   "id": "2b95c23c",
   "metadata": {
    "ExecuteTime": {
     "end_time": "2023-03-23T10:18:35.888516Z",
     "start_time": "2023-03-23T10:18:35.731057Z"
    }
   },
   "outputs": [
    {
     "data": {
      "image/png": "[encoded data removed]",
      "text/plain": [
       "<Figure size 600x400 with 1 Axes>"
      ]
     },
     "metadata": {},
     "output_type": "display_data"
    }
   ],
   "source": [
    "# summarize history for loss\n",
    "plt.plot(hist1.history['mse'])\n",
    "plt.plot(hist1.history['val_mse'])\n",
    "plt.title('model1 mse')\n",
    "plt.ylabel('mse')\n",
    "plt.xlabel('epoch')\n",
    "plt.legend(['train', 'test'], loc='upper left')\n",
    "plt.show() "
   ]
  },
  {
   "cell_type": "code",
   "execution_count": null,
   "id": "b23fb1dd",
   "metadata": {},
   "outputs": [],
   "source": []
  },
  {
   "cell_type": "code",
   "execution_count": null,
   "id": "c347e58b",
   "metadata": {},
   "outputs": [],
   "source": []
  },
  {
   "cell_type": "markdown",
   "id": "e363169f",
   "metadata": {},
   "source": [
    "# Q2)\n",
    "PREDICT THE BURNED AREA OF FOREST FIRES WITH NEURAL NETWORKS"
   ]
  },
  {
   "cell_type": "code",
   "execution_count": 19,
   "id": "6452635e",
   "metadata": {
    "ExecuteTime": {
     "end_time": "2023-03-23T10:18:35.968179Z",
     "start_time": "2023-03-23T10:18:35.888516Z"
    }
   },
   "outputs": [],
   "source": [
    "#load the libraries\n",
    "import pandas as pd\n",
    "import numpy as np\n",
    "from sklearn.model_selection import train_test_split, cross_val_score\n",
    "import seaborn as sns\n",
    "from matplotlib import pyplot as plt\n",
    "%matplotlib inline\n",
    "from sklearn.decomposition import PCA\n",
    "import tensorflow as tf\n",
    "tf.debugging.set_log_device_placement(False) \n",
    "import warnings\n",
    "warnings.filterwarnings('ignore')"
   ]
  },
  {
   "cell_type": "code",
   "execution_count": 20,
   "id": "2f7dc861",
   "metadata": {
    "ExecuteTime": {
     "end_time": "2023-03-23T10:18:35.999880Z",
     "start_time": "2023-03-23T10:18:35.968179Z"
    }
   },
   "outputs": [],
   "source": [
    "tf.random.set_seed(14) "
   ]
  },
  {
   "cell_type": "code",
   "execution_count": 21,
   "id": "55974b76",
   "metadata": {
    "ExecuteTime": {
     "end_time": "2023-03-23T10:18:36.047274Z",
     "start_time": "2023-03-23T10:18:36.001645Z"
    }
   },
   "outputs": [
    {
     "data": {
      "text/html": [
       "<div>\n",
       "<style scoped>\n",
       "    .dataframe tbody tr th:only-of-type {\n",
       "        vertical-align: middle;\n",
       "    }\n",
       "\n",
       "    .dataframe tbody tr th {\n",
       "        vertical-align: top;\n",
       "    }\n",
       "\n",
       "    .dataframe thead th {\n",
       "        text-align: right;\n",
       "    }\n",
       "</style>\n",
       "<table border=\"1\" class=\"dataframe\">\n",
       "  <thead>\n",
       "    <tr style=\"text-align: right;\">\n",
       "      <th></th>\n",
       "      <th>month</th>\n",
       "      <th>day</th>\n",
       "      <th>FFMC</th>\n",
       "      <th>DMC</th>\n",
       "      <th>DC</th>\n",
       "      <th>ISI</th>\n",
       "      <th>temp</th>\n",
       "      <th>RH</th>\n",
       "      <th>wind</th>\n",
       "      <th>rain</th>\n",
       "      <th>...</th>\n",
       "      <th>monthfeb</th>\n",
       "      <th>monthjan</th>\n",
       "      <th>monthjul</th>\n",
       "      <th>monthjun</th>\n",
       "      <th>monthmar</th>\n",
       "      <th>monthmay</th>\n",
       "      <th>monthnov</th>\n",
       "      <th>monthoct</th>\n",
       "      <th>monthsep</th>\n",
       "      <th>size_category</th>\n",
       "    </tr>\n",
       "  </thead>\n",
       "  <tbody>\n",
       "    <tr>\n",
       "      <th>0</th>\n",
       "      <td>mar</td>\n",
       "      <td>fri</td>\n",
       "      <td>86.2</td>\n",
       "      <td>26.2</td>\n",
       "      <td>94.3</td>\n",
       "      <td>5.1</td>\n",
       "      <td>8.2</td>\n",
       "      <td>51</td>\n",
       "      <td>6.7</td>\n",
       "      <td>0.0</td>\n",
       "      <td>...</td>\n",
       "      <td>0</td>\n",
       "      <td>0</td>\n",
       "      <td>0</td>\n",
       "      <td>0</td>\n",
       "      <td>1</td>\n",
       "      <td>0</td>\n",
       "      <td>0</td>\n",
       "      <td>0</td>\n",
       "      <td>0</td>\n",
       "      <td>small</td>\n",
       "    </tr>\n",
       "    <tr>\n",
       "      <th>1</th>\n",
       "      <td>oct</td>\n",
       "      <td>tue</td>\n",
       "      <td>90.6</td>\n",
       "      <td>35.4</td>\n",
       "      <td>669.1</td>\n",
       "      <td>6.7</td>\n",
       "      <td>18.0</td>\n",
       "      <td>33</td>\n",
       "      <td>0.9</td>\n",
       "      <td>0.0</td>\n",
       "      <td>...</td>\n",
       "      <td>0</td>\n",
       "      <td>0</td>\n",
       "      <td>0</td>\n",
       "      <td>0</td>\n",
       "      <td>0</td>\n",
       "      <td>0</td>\n",
       "      <td>0</td>\n",
       "      <td>1</td>\n",
       "      <td>0</td>\n",
       "      <td>small</td>\n",
       "    </tr>\n",
       "    <tr>\n",
       "      <th>2</th>\n",
       "      <td>oct</td>\n",
       "      <td>sat</td>\n",
       "      <td>90.6</td>\n",
       "      <td>43.7</td>\n",
       "      <td>686.9</td>\n",
       "      <td>6.7</td>\n",
       "      <td>14.6</td>\n",
       "      <td>33</td>\n",
       "      <td>1.3</td>\n",
       "      <td>0.0</td>\n",
       "      <td>...</td>\n",
       "      <td>0</td>\n",
       "      <td>0</td>\n",
       "      <td>0</td>\n",
       "      <td>0</td>\n",
       "      <td>0</td>\n",
       "      <td>0</td>\n",
       "      <td>0</td>\n",
       "      <td>1</td>\n",
       "      <td>0</td>\n",
       "      <td>small</td>\n",
       "    </tr>\n",
       "    <tr>\n",
       "      <th>3</th>\n",
       "      <td>mar</td>\n",
       "      <td>fri</td>\n",
       "      <td>91.7</td>\n",
       "      <td>33.3</td>\n",
       "      <td>77.5</td>\n",
       "      <td>9.0</td>\n",
       "      <td>8.3</td>\n",
       "      <td>97</td>\n",
       "      <td>4.0</td>\n",
       "      <td>0.2</td>\n",
       "      <td>...</td>\n",
       "      <td>0</td>\n",
       "      <td>0</td>\n",
       "      <td>0</td>\n",
       "      <td>0</td>\n",
       "      <td>1</td>\n",
       "      <td>0</td>\n",
       "      <td>0</td>\n",
       "      <td>0</td>\n",
       "      <td>0</td>\n",
       "      <td>small</td>\n",
       "    </tr>\n",
       "    <tr>\n",
       "      <th>4</th>\n",
       "      <td>mar</td>\n",
       "      <td>sun</td>\n",
       "      <td>89.3</td>\n",
       "      <td>51.3</td>\n",
       "      <td>102.2</td>\n",
       "      <td>9.6</td>\n",
       "      <td>11.4</td>\n",
       "      <td>99</td>\n",
       "      <td>1.8</td>\n",
       "      <td>0.0</td>\n",
       "      <td>...</td>\n",
       "      <td>0</td>\n",
       "      <td>0</td>\n",
       "      <td>0</td>\n",
       "      <td>0</td>\n",
       "      <td>1</td>\n",
       "      <td>0</td>\n",
       "      <td>0</td>\n",
       "      <td>0</td>\n",
       "      <td>0</td>\n",
       "      <td>small</td>\n",
       "    </tr>\n",
       "  </tbody>\n",
       "</table>\n",
       "<p>5 rows × 31 columns</p>\n",
       "</div>"
      ],
      "text/plain": [
       "  month  day  FFMC   DMC     DC  ISI  temp  RH  wind  rain  ...  monthfeb  \\\n",
       "0   mar  fri  86.2  26.2   94.3  5.1   8.2  51   6.7   0.0  ...         0   \n",
       "1   oct  tue  90.6  35.4  669.1  6.7  18.0  33   0.9   0.0  ...         0   \n",
       "2   oct  sat  90.6  43.7  686.9  6.7  14.6  33   1.3   0.0  ...         0   \n",
       "3   mar  fri  91.7  33.3   77.5  9.0   8.3  97   4.0   0.2  ...         0   \n",
       "4   mar  sun  89.3  51.3  102.2  9.6  11.4  99   1.8   0.0  ...         0   \n",
       "\n",
       "   monthjan  monthjul  monthjun  monthmar  monthmay  monthnov  monthoct  \\\n",
       "0         0         0         0         1         0         0         0   \n",
       "1         0         0         0         0         0         0         1   \n",
       "2         0         0         0         0         0         0         1   \n",
       "3         0         0         0         1         0         0         0   \n",
       "4         0         0         0         1         0         0         0   \n",
       "\n",
       "   monthsep  size_category  \n",
       "0         0          small  \n",
       "1         0          small  \n",
       "2         0          small  \n",
       "3         0          small  \n",
       "4         0          small  \n",
       "\n",
       "[5 rows x 31 columns]"
      ]
     },
     "execution_count": 21,
     "metadata": {},
     "output_type": "execute_result"
    }
   ],
   "source": [
    "forest=pd.read_csv('forestfires.csv')\n",
    "forest.head()\n"
   ]
  },
  {
   "cell_type": "code",
   "execution_count": 22,
   "id": "98e118bc",
   "metadata": {
    "ExecuteTime": {
     "end_time": "2023-03-23T10:18:36.063217Z",
     "start_time": "2023-03-23T10:18:36.047274Z"
    }
   },
   "outputs": [],
   "source": [
    "df = forest.copy() #Removing the dummies at this time\n",
    "df.drop(df.columns[11:30],axis=1,inplace = True)"
   ]
  },
  {
   "cell_type": "code",
   "execution_count": 23,
   "id": "95850481",
   "metadata": {
    "ExecuteTime": {
     "end_time": "2023-03-23T10:18:36.095116Z",
     "start_time": "2023-03-23T10:18:36.063806Z"
    }
   },
   "outputs": [
    {
     "name": "stdout",
     "output_type": "stream",
     "text": [
      "<class 'pandas.core.frame.DataFrame'>\n",
      "RangeIndex: 517 entries, 0 to 516\n",
      "Data columns (total 12 columns):\n",
      " #   Column         Non-Null Count  Dtype  \n",
      "---  ------         --------------  -----  \n",
      " 0   month          517 non-null    object \n",
      " 1   day            517 non-null    object \n",
      " 2   FFMC           517 non-null    float64\n",
      " 3   DMC            517 non-null    float64\n",
      " 4   DC             517 non-null    float64\n",
      " 5   ISI            517 non-null    float64\n",
      " 6   temp           517 non-null    float64\n",
      " 7   RH             517 non-null    int64  \n",
      " 8   wind           517 non-null    float64\n",
      " 9   rain           517 non-null    float64\n",
      " 10  area           517 non-null    float64\n",
      " 11  size_category  517 non-null    object \n",
      "dtypes: float64(8), int64(1), object(3)\n",
      "memory usage: 48.6+ KB\n"
     ]
    }
   ],
   "source": [
    "df.info()"
   ]
  },
  {
   "cell_type": "code",
   "execution_count": 24,
   "id": "e6c9d349",
   "metadata": {
    "ExecuteTime": {
     "end_time": "2023-03-23T10:18:36.110983Z",
     "start_time": "2023-03-23T10:18:36.095116Z"
    }
   },
   "outputs": [
    {
     "data": {
      "text/plain": [
       "month            0\n",
       "day              0\n",
       "FFMC             0\n",
       "DMC              0\n",
       "DC               0\n",
       "ISI              0\n",
       "temp             0\n",
       "RH               0\n",
       "wind             0\n",
       "rain             0\n",
       "area             0\n",
       "size_category    0\n",
       "dtype: int64"
      ]
     },
     "execution_count": 24,
     "metadata": {},
     "output_type": "execute_result"
    }
   ],
   "source": [
    "df.isnull().sum()"
   ]
  },
  {
   "cell_type": "code",
   "execution_count": 25,
   "id": "a301afc7",
   "metadata": {
    "ExecuteTime": {
     "end_time": "2023-03-23T10:18:36.158801Z",
     "start_time": "2023-03-23T10:18:36.110983Z"
    }
   },
   "outputs": [
    {
     "data": {
      "text/html": [
       "<div>\n",
       "<style scoped>\n",
       "    .dataframe tbody tr th:only-of-type {\n",
       "        vertical-align: middle;\n",
       "    }\n",
       "\n",
       "    .dataframe tbody tr th {\n",
       "        vertical-align: top;\n",
       "    }\n",
       "\n",
       "    .dataframe thead th {\n",
       "        text-align: right;\n",
       "    }\n",
       "</style>\n",
       "<table border=\"1\" class=\"dataframe\">\n",
       "  <thead>\n",
       "    <tr style=\"text-align: right;\">\n",
       "      <th></th>\n",
       "      <th>FFMC</th>\n",
       "      <th>DMC</th>\n",
       "      <th>DC</th>\n",
       "      <th>ISI</th>\n",
       "      <th>temp</th>\n",
       "      <th>RH</th>\n",
       "      <th>wind</th>\n",
       "      <th>rain</th>\n",
       "      <th>area</th>\n",
       "    </tr>\n",
       "  </thead>\n",
       "  <tbody>\n",
       "    <tr>\n",
       "      <th>count</th>\n",
       "      <td>517.000000</td>\n",
       "      <td>517.000000</td>\n",
       "      <td>517.000000</td>\n",
       "      <td>517.000000</td>\n",
       "      <td>517.000000</td>\n",
       "      <td>517.000000</td>\n",
       "      <td>517.000000</td>\n",
       "      <td>517.000000</td>\n",
       "      <td>517.000000</td>\n",
       "    </tr>\n",
       "    <tr>\n",
       "      <th>mean</th>\n",
       "      <td>90.644681</td>\n",
       "      <td>110.872340</td>\n",
       "      <td>547.940039</td>\n",
       "      <td>9.021663</td>\n",
       "      <td>18.889168</td>\n",
       "      <td>44.288201</td>\n",
       "      <td>4.017602</td>\n",
       "      <td>0.021663</td>\n",
       "      <td>12.847292</td>\n",
       "    </tr>\n",
       "    <tr>\n",
       "      <th>std</th>\n",
       "      <td>5.520111</td>\n",
       "      <td>64.046482</td>\n",
       "      <td>248.066192</td>\n",
       "      <td>4.559477</td>\n",
       "      <td>5.806625</td>\n",
       "      <td>16.317469</td>\n",
       "      <td>1.791653</td>\n",
       "      <td>0.295959</td>\n",
       "      <td>63.655818</td>\n",
       "    </tr>\n",
       "    <tr>\n",
       "      <th>min</th>\n",
       "      <td>18.700000</td>\n",
       "      <td>1.100000</td>\n",
       "      <td>7.900000</td>\n",
       "      <td>0.000000</td>\n",
       "      <td>2.200000</td>\n",
       "      <td>15.000000</td>\n",
       "      <td>0.400000</td>\n",
       "      <td>0.000000</td>\n",
       "      <td>0.000000</td>\n",
       "    </tr>\n",
       "    <tr>\n",
       "      <th>25%</th>\n",
       "      <td>90.200000</td>\n",
       "      <td>68.600000</td>\n",
       "      <td>437.700000</td>\n",
       "      <td>6.500000</td>\n",
       "      <td>15.500000</td>\n",
       "      <td>33.000000</td>\n",
       "      <td>2.700000</td>\n",
       "      <td>0.000000</td>\n",
       "      <td>0.000000</td>\n",
       "    </tr>\n",
       "    <tr>\n",
       "      <th>50%</th>\n",
       "      <td>91.600000</td>\n",
       "      <td>108.300000</td>\n",
       "      <td>664.200000</td>\n",
       "      <td>8.400000</td>\n",
       "      <td>19.300000</td>\n",
       "      <td>42.000000</td>\n",
       "      <td>4.000000</td>\n",
       "      <td>0.000000</td>\n",
       "      <td>0.520000</td>\n",
       "    </tr>\n",
       "    <tr>\n",
       "      <th>75%</th>\n",
       "      <td>92.900000</td>\n",
       "      <td>142.400000</td>\n",
       "      <td>713.900000</td>\n",
       "      <td>10.800000</td>\n",
       "      <td>22.800000</td>\n",
       "      <td>53.000000</td>\n",
       "      <td>4.900000</td>\n",
       "      <td>0.000000</td>\n",
       "      <td>6.570000</td>\n",
       "    </tr>\n",
       "    <tr>\n",
       "      <th>max</th>\n",
       "      <td>96.200000</td>\n",
       "      <td>291.300000</td>\n",
       "      <td>860.600000</td>\n",
       "      <td>56.100000</td>\n",
       "      <td>33.300000</td>\n",
       "      <td>100.000000</td>\n",
       "      <td>9.400000</td>\n",
       "      <td>6.400000</td>\n",
       "      <td>1090.840000</td>\n",
       "    </tr>\n",
       "  </tbody>\n",
       "</table>\n",
       "</div>"
      ],
      "text/plain": [
       "             FFMC         DMC          DC         ISI        temp          RH  \\\n",
       "count  517.000000  517.000000  517.000000  517.000000  517.000000  517.000000   \n",
       "mean    90.644681  110.872340  547.940039    9.021663   18.889168   44.288201   \n",
       "std      5.520111   64.046482  248.066192    4.559477    5.806625   16.317469   \n",
       "min     18.700000    1.100000    7.900000    0.000000    2.200000   15.000000   \n",
       "25%     90.200000   68.600000  437.700000    6.500000   15.500000   33.000000   \n",
       "50%     91.600000  108.300000  664.200000    8.400000   19.300000   42.000000   \n",
       "75%     92.900000  142.400000  713.900000   10.800000   22.800000   53.000000   \n",
       "max     96.200000  291.300000  860.600000   56.100000   33.300000  100.000000   \n",
       "\n",
       "             wind        rain         area  \n",
       "count  517.000000  517.000000   517.000000  \n",
       "mean     4.017602    0.021663    12.847292  \n",
       "std      1.791653    0.295959    63.655818  \n",
       "min      0.400000    0.000000     0.000000  \n",
       "25%      2.700000    0.000000     0.000000  \n",
       "50%      4.000000    0.000000     0.520000  \n",
       "75%      4.900000    0.000000     6.570000  \n",
       "max      9.400000    6.400000  1090.840000  "
      ]
     },
     "execution_count": 25,
     "metadata": {},
     "output_type": "execute_result"
    }
   ],
   "source": [
    "df.describe()"
   ]
  },
  {
   "cell_type": "code",
   "execution_count": 26,
   "id": "acae6980",
   "metadata": {
    "ExecuteTime": {
     "end_time": "2023-03-23T10:18:36.174454Z",
     "start_time": "2023-03-23T10:18:36.158801Z"
    }
   },
   "outputs": [
    {
     "data": {
      "text/plain": [
       "aug    184\n",
       "sep    172\n",
       "mar     54\n",
       "jul     32\n",
       "feb     20\n",
       "jun     17\n",
       "oct     15\n",
       "apr      9\n",
       "dec      9\n",
       "jan      2\n",
       "may      2\n",
       "nov      1\n",
       "Name: month, dtype: int64"
      ]
     },
     "execution_count": 26,
     "metadata": {},
     "output_type": "execute_result"
    }
   ],
   "source": [
    "df.month.value_counts()"
   ]
  },
  {
   "cell_type": "code",
   "execution_count": 27,
   "id": "ade87c35",
   "metadata": {
    "ExecuteTime": {
     "end_time": "2023-03-23T10:18:36.190449Z",
     "start_time": "2023-03-23T10:18:36.174454Z"
    }
   },
   "outputs": [
    {
     "data": {
      "text/plain": [
       "small    378\n",
       "large    139\n",
       "Name: size_category, dtype: int64"
      ]
     },
     "execution_count": 27,
     "metadata": {},
     "output_type": "execute_result"
    }
   ],
   "source": [
    " #  remove the bias.\n",
    "df.size_category.value_counts() "
   ]
  },
  {
   "cell_type": "code",
   "execution_count": 28,
   "id": "913b47d4",
   "metadata": {
    "ExecuteTime": {
     "end_time": "2023-03-23T10:18:36.222228Z",
     "start_time": "2023-03-23T10:18:36.190449Z"
    }
   },
   "outputs": [
    {
     "data": {
      "text/html": [
       "<div>\n",
       "<style scoped>\n",
       "    .dataframe tbody tr th:only-of-type {\n",
       "        vertical-align: middle;\n",
       "    }\n",
       "\n",
       "    .dataframe tbody tr th {\n",
       "        vertical-align: top;\n",
       "    }\n",
       "\n",
       "    .dataframe thead th {\n",
       "        text-align: right;\n",
       "    }\n",
       "</style>\n",
       "<table border=\"1\" class=\"dataframe\">\n",
       "  <thead>\n",
       "    <tr style=\"text-align: right;\">\n",
       "      <th></th>\n",
       "      <th>month</th>\n",
       "      <th>day</th>\n",
       "      <th>FFMC</th>\n",
       "      <th>DMC</th>\n",
       "      <th>DC</th>\n",
       "      <th>ISI</th>\n",
       "      <th>temp</th>\n",
       "      <th>RH</th>\n",
       "      <th>wind</th>\n",
       "      <th>rain</th>\n",
       "      <th>area</th>\n",
       "      <th>size_category</th>\n",
       "    </tr>\n",
       "  </thead>\n",
       "  <tbody>\n",
       "    <tr>\n",
       "      <th>0</th>\n",
       "      <td>7</td>\n",
       "      <td>0</td>\n",
       "      <td>86.2</td>\n",
       "      <td>26.2</td>\n",
       "      <td>94.3</td>\n",
       "      <td>5.1</td>\n",
       "      <td>8.2</td>\n",
       "      <td>51</td>\n",
       "      <td>6.7</td>\n",
       "      <td>0.0</td>\n",
       "      <td>0.0</td>\n",
       "      <td>1</td>\n",
       "    </tr>\n",
       "    <tr>\n",
       "      <th>1</th>\n",
       "      <td>10</td>\n",
       "      <td>5</td>\n",
       "      <td>90.6</td>\n",
       "      <td>35.4</td>\n",
       "      <td>669.1</td>\n",
       "      <td>6.7</td>\n",
       "      <td>18.0</td>\n",
       "      <td>33</td>\n",
       "      <td>0.9</td>\n",
       "      <td>0.0</td>\n",
       "      <td>0.0</td>\n",
       "      <td>1</td>\n",
       "    </tr>\n",
       "    <tr>\n",
       "      <th>2</th>\n",
       "      <td>10</td>\n",
       "      <td>2</td>\n",
       "      <td>90.6</td>\n",
       "      <td>43.7</td>\n",
       "      <td>686.9</td>\n",
       "      <td>6.7</td>\n",
       "      <td>14.6</td>\n",
       "      <td>33</td>\n",
       "      <td>1.3</td>\n",
       "      <td>0.0</td>\n",
       "      <td>0.0</td>\n",
       "      <td>1</td>\n",
       "    </tr>\n",
       "    <tr>\n",
       "      <th>3</th>\n",
       "      <td>7</td>\n",
       "      <td>0</td>\n",
       "      <td>91.7</td>\n",
       "      <td>33.3</td>\n",
       "      <td>77.5</td>\n",
       "      <td>9.0</td>\n",
       "      <td>8.3</td>\n",
       "      <td>97</td>\n",
       "      <td>4.0</td>\n",
       "      <td>0.2</td>\n",
       "      <td>0.0</td>\n",
       "      <td>1</td>\n",
       "    </tr>\n",
       "    <tr>\n",
       "      <th>4</th>\n",
       "      <td>7</td>\n",
       "      <td>3</td>\n",
       "      <td>89.3</td>\n",
       "      <td>51.3</td>\n",
       "      <td>102.2</td>\n",
       "      <td>9.6</td>\n",
       "      <td>11.4</td>\n",
       "      <td>99</td>\n",
       "      <td>1.8</td>\n",
       "      <td>0.0</td>\n",
       "      <td>0.0</td>\n",
       "      <td>1</td>\n",
       "    </tr>\n",
       "  </tbody>\n",
       "</table>\n",
       "</div>"
      ],
      "text/plain": [
       "   month  day  FFMC   DMC     DC  ISI  temp  RH  wind  rain  area  \\\n",
       "0      7    0  86.2  26.2   94.3  5.1   8.2  51   6.7   0.0   0.0   \n",
       "1     10    5  90.6  35.4  669.1  6.7  18.0  33   0.9   0.0   0.0   \n",
       "2     10    2  90.6  43.7  686.9  6.7  14.6  33   1.3   0.0   0.0   \n",
       "3      7    0  91.7  33.3   77.5  9.0   8.3  97   4.0   0.2   0.0   \n",
       "4      7    3  89.3  51.3  102.2  9.6  11.4  99   1.8   0.0   0.0   \n",
       "\n",
       "   size_category  \n",
       "0              1  \n",
       "1              1  \n",
       "2              1  \n",
       "3              1  \n",
       "4              1  "
      ]
     },
     "execution_count": 28,
     "metadata": {},
     "output_type": "execute_result"
    }
   ],
   "source": [
    "# label encoding\n",
    "\n",
    "from sklearn import preprocessing\n",
    "label_encoder = preprocessing.LabelEncoder()\n",
    "df.month= label_encoder.fit_transform(df.month) \n",
    "df.day= label_encoder.fit_transform(df.day) \n",
    "df.size_category= label_encoder.fit_transform(df.size_category) \n",
    "df.head()"
   ]
  },
  {
   "cell_type": "code",
   "execution_count": 29,
   "id": "072e48ff",
   "metadata": {
    "ExecuteTime": {
     "end_time": "2023-03-23T10:18:36.492464Z",
     "start_time": "2023-03-23T10:18:36.222228Z"
    }
   },
   "outputs": [
    {
     "name": "stdout",
     "output_type": "stream",
     "text": [
      "Counter({1: 378, 0: 139})\n",
      "Counter({1: 369, 0: 369})\n"
     ]
    }
   ],
   "source": [
    "# removing bias\n",
    "# !pip install imbalanced-learn\n",
    "from imblearn.combine import SMOTETomek\n",
    "from collections import Counter\n",
    "\n",
    "resamp = df.copy()\n",
    "#SMOTEK TECHNIQUE\n",
    "\n",
    "#Define dataset\n",
    "a = resamp.iloc[:,:-1]\n",
    "b = resamp.iloc[:,-1]\n",
    "\n",
    "#Count before\n",
    "print(Counter(b))\n",
    "\n",
    "smt = SMOTETomek(sampling_strategy = 'auto')\n",
    "a, b = smt.fit_resample(a, b)\n",
    "\n",
    "#Count after\n",
    "print(Counter(b)) #removed bias in dataset"
   ]
  },
  {
   "cell_type": "code",
   "execution_count": 30,
   "id": "028646da",
   "metadata": {
    "ExecuteTime": {
     "end_time": "2023-03-23T10:19:13.095856Z",
     "start_time": "2023-03-23T10:19:13.080229Z"
    }
   },
   "outputs": [],
   "source": [
    "\n",
    "X = a\n",
    "Y = b\n",
    "X_train, X_test, y_train, y_test = train_test_split(X,Y, test_size = 0.3)"
   ]
  },
  {
   "cell_type": "code",
   "execution_count": 31,
   "id": "d2e3b94d",
   "metadata": {
    "ExecuteTime": {
     "end_time": "2023-03-23T10:19:24.297718Z",
     "start_time": "2023-03-23T10:19:24.282095Z"
    }
   },
   "outputs": [],
   "source": [
    "# Create your first MLP in Keras\n",
    "import keras\n",
    "from keras.models import Sequential\n",
    "from keras.layers import Dense"
   ]
  },
  {
   "cell_type": "code",
   "execution_count": 32,
   "id": "962b3c50",
   "metadata": {
    "ExecuteTime": {
     "end_time": "2023-03-23T10:19:41.230500Z",
     "start_time": "2023-03-23T10:19:34.708994Z"
    }
   },
   "outputs": [
    {
     "name": "stdout",
     "output_type": "stream",
     "text": [
      "Epoch 1/50\n",
      "35/35 [==============================] - 1s 8ms/step - loss: 0.6857 - accuracy: 0.5797 - val_loss: 0.6942 - val_accuracy: 0.4795\n",
      "Epoch 2/50\n",
      "35/35 [==============================] - 0s 3ms/step - loss: 0.6494 - accuracy: 0.6348 - val_loss: 0.6260 - val_accuracy: 0.7368\n",
      "Epoch 3/50\n",
      "35/35 [==============================] - 0s 3ms/step - loss: 0.5749 - accuracy: 0.7101 - val_loss: 0.5707 - val_accuracy: 0.6725\n",
      "Epoch 4/50\n",
      "35/35 [==============================] - 0s 3ms/step - loss: 0.4917 - accuracy: 0.7565 - val_loss: 0.5153 - val_accuracy: 0.6842\n",
      "Epoch 5/50\n",
      "35/35 [==============================] - 0s 2ms/step - loss: 0.4103 - accuracy: 0.8261 - val_loss: 0.3863 - val_accuracy: 0.8421\n",
      "Epoch 6/50\n",
      "35/35 [==============================] - 0s 3ms/step - loss: 0.3162 - accuracy: 0.8841 - val_loss: 0.3015 - val_accuracy: 0.9532\n",
      "Epoch 7/50\n",
      "35/35 [==============================] - 0s 2ms/step - loss: 0.2687 - accuracy: 0.8812 - val_loss: 0.2347 - val_accuracy: 0.9825\n",
      "Epoch 8/50\n",
      "35/35 [==============================] - 0s 2ms/step - loss: 0.1998 - accuracy: 0.9565 - val_loss: 0.1810 - val_accuracy: 0.9883\n",
      "Epoch 9/50\n",
      "35/35 [==============================] - 0s 3ms/step - loss: 0.2401 - accuracy: 0.9014 - val_loss: 0.1661 - val_accuracy: 0.9825\n",
      "Epoch 10/50\n",
      "35/35 [==============================] - 0s 3ms/step - loss: 0.1657 - accuracy: 0.9507 - val_loss: 0.1197 - val_accuracy: 0.9883\n",
      "Epoch 11/50\n",
      "35/35 [==============================] - 0s 3ms/step - loss: 0.1073 - accuracy: 0.9826 - val_loss: 0.1188 - val_accuracy: 0.9649\n",
      "Epoch 12/50\n",
      "35/35 [==============================] - 0s 3ms/step - loss: 0.1013 - accuracy: 0.9710 - val_loss: 0.1057 - val_accuracy: 0.9649\n",
      "Epoch 13/50\n",
      "35/35 [==============================] - 0s 3ms/step - loss: 0.0748 - accuracy: 0.9884 - val_loss: 0.0795 - val_accuracy: 0.9883\n",
      "Epoch 14/50\n",
      "35/35 [==============================] - 0s 3ms/step - loss: 0.0690 - accuracy: 0.9884 - val_loss: 0.0667 - val_accuracy: 0.9825\n",
      "Epoch 15/50\n",
      "35/35 [==============================] - 0s 3ms/step - loss: 0.0534 - accuracy: 0.9942 - val_loss: 0.0518 - val_accuracy: 0.9942\n",
      "Epoch 16/50\n",
      "35/35 [==============================] - 0s 2ms/step - loss: 0.0590 - accuracy: 0.9884 - val_loss: 0.0474 - val_accuracy: 0.9942\n",
      "Epoch 17/50\n",
      "35/35 [==============================] - 0s 3ms/step - loss: 0.0539 - accuracy: 0.9855 - val_loss: 0.0431 - val_accuracy: 0.9942\n",
      "Epoch 18/50\n",
      "35/35 [==============================] - 0s 2ms/step - loss: 0.0595 - accuracy: 0.9768 - val_loss: 0.0630 - val_accuracy: 0.9766\n",
      "Epoch 19/50\n",
      "35/35 [==============================] - 0s 3ms/step - loss: 0.0613 - accuracy: 0.9768 - val_loss: 0.0405 - val_accuracy: 0.9942\n",
      "Epoch 20/50\n",
      "35/35 [==============================] - 0s 3ms/step - loss: 0.0501 - accuracy: 0.9797 - val_loss: 0.0348 - val_accuracy: 0.9942\n",
      "Epoch 21/50\n",
      "35/35 [==============================] - 0s 3ms/step - loss: 0.0406 - accuracy: 0.9797 - val_loss: 0.0332 - val_accuracy: 0.9942\n",
      "Epoch 22/50\n",
      "35/35 [==============================] - 0s 3ms/step - loss: 0.0342 - accuracy: 0.9913 - val_loss: 0.0591 - val_accuracy: 0.9708\n",
      "Epoch 23/50\n",
      "35/35 [==============================] - 0s 3ms/step - loss: 0.0513 - accuracy: 0.9797 - val_loss: 0.0656 - val_accuracy: 0.9708\n",
      "Epoch 24/50\n",
      "35/35 [==============================] - 0s 3ms/step - loss: 0.0485 - accuracy: 0.9884 - val_loss: 0.0685 - val_accuracy: 0.9708\n",
      "Epoch 25/50\n",
      "35/35 [==============================] - 0s 3ms/step - loss: 0.0359 - accuracy: 0.9826 - val_loss: 0.0295 - val_accuracy: 0.9883\n",
      "Epoch 26/50\n",
      "35/35 [==============================] - 0s 3ms/step - loss: 0.0354 - accuracy: 0.9855 - val_loss: 0.0292 - val_accuracy: 0.9883\n",
      "Epoch 27/50\n",
      "35/35 [==============================] - 0s 3ms/step - loss: 0.0270 - accuracy: 0.9913 - val_loss: 0.0250 - val_accuracy: 0.9942\n",
      "Epoch 28/50\n",
      "35/35 [==============================] - 0s 3ms/step - loss: 0.0290 - accuracy: 0.9884 - val_loss: 0.0274 - val_accuracy: 0.9942\n",
      "Epoch 29/50\n",
      "35/35 [==============================] - 0s 2ms/step - loss: 0.0405 - accuracy: 0.9826 - val_loss: 0.0264 - val_accuracy: 0.9942\n",
      "Epoch 30/50\n",
      "35/35 [==============================] - 0s 3ms/step - loss: 0.1136 - accuracy: 0.9420 - val_loss: 0.0367 - val_accuracy: 0.9883\n",
      "Epoch 31/50\n",
      "35/35 [==============================] - 0s 4ms/step - loss: 0.0290 - accuracy: 0.9913 - val_loss: 0.0296 - val_accuracy: 0.9883\n",
      "Epoch 32/50\n",
      "35/35 [==============================] - 0s 4ms/step - loss: 0.0266 - accuracy: 0.9884 - val_loss: 0.0233 - val_accuracy: 0.9942\n",
      "Epoch 33/50\n",
      "35/35 [==============================] - 0s 4ms/step - loss: 0.0494 - accuracy: 0.9797 - val_loss: 0.1246 - val_accuracy: 0.9415\n",
      "Epoch 34/50\n",
      "35/35 [==============================] - 0s 4ms/step - loss: 0.0257 - accuracy: 0.9884 - val_loss: 0.0211 - val_accuracy: 0.9942\n",
      "Epoch 35/50\n",
      "35/35 [==============================] - 0s 3ms/step - loss: 0.0180 - accuracy: 0.9942 - val_loss: 0.0257 - val_accuracy: 0.9942\n",
      "Epoch 36/50\n",
      "35/35 [==============================] - 0s 3ms/step - loss: 0.0464 - accuracy: 0.9768 - val_loss: 0.0317 - val_accuracy: 0.9883\n",
      "Epoch 37/50\n",
      "35/35 [==============================] - 0s 3ms/step - loss: 0.0649 - accuracy: 0.9623 - val_loss: 0.0354 - val_accuracy: 0.9883\n",
      "Epoch 38/50\n",
      "35/35 [==============================] - 0s 2ms/step - loss: 0.0195 - accuracy: 0.9913 - val_loss: 0.0202 - val_accuracy: 0.9942\n",
      "Epoch 39/50\n",
      "35/35 [==============================] - 0s 4ms/step - loss: 0.0663 - accuracy: 0.9710 - val_loss: 0.0549 - val_accuracy: 0.9708\n",
      "Epoch 40/50\n",
      "35/35 [==============================] - 0s 4ms/step - loss: 0.0666 - accuracy: 0.9826 - val_loss: 0.0238 - val_accuracy: 0.9942\n",
      "Epoch 41/50\n",
      "35/35 [==============================] - 0s 3ms/step - loss: 0.0207 - accuracy: 0.9971 - val_loss: 0.0234 - val_accuracy: 0.9883\n",
      "Epoch 42/50\n",
      "35/35 [==============================] - 0s 2ms/step - loss: 0.0253 - accuracy: 0.9913 - val_loss: 0.0210 - val_accuracy: 0.9942\n",
      "Epoch 43/50\n",
      "35/35 [==============================] - 0s 2ms/step - loss: 0.0179 - accuracy: 0.9942 - val_loss: 0.0237 - val_accuracy: 0.9942\n",
      "Epoch 44/50\n",
      "35/35 [==============================] - 0s 4ms/step - loss: 0.0413 - accuracy: 0.9739 - val_loss: 0.0223 - val_accuracy: 0.9942\n",
      "Epoch 45/50\n",
      "35/35 [==============================] - 0s 5ms/step - loss: 0.0242 - accuracy: 0.9913 - val_loss: 0.0229 - val_accuracy: 0.9942\n",
      "Epoch 46/50\n",
      "35/35 [==============================] - 0s 4ms/step - loss: 0.0184 - accuracy: 0.9942 - val_loss: 0.0191 - val_accuracy: 0.9942\n",
      "Epoch 47/50\n",
      "35/35 [==============================] - 0s 4ms/step - loss: 0.1559 - accuracy: 0.9478 - val_loss: 0.0694 - val_accuracy: 0.9825\n",
      "Epoch 48/50\n",
      "35/35 [==============================] - 0s 4ms/step - loss: 0.0936 - accuracy: 0.9623 - val_loss: 0.0184 - val_accuracy: 0.9942\n",
      "Epoch 49/50\n",
      "35/35 [==============================] - 0s 4ms/step - loss: 0.0581 - accuracy: 0.9826 - val_loss: 0.0793 - val_accuracy: 0.9766\n",
      "Epoch 50/50\n",
      "35/35 [==============================] - 0s 4ms/step - loss: 0.0580 - accuracy: 0.9710 - val_loss: 0.0165 - val_accuracy: 0.9942\n"
     ]
    }
   ],
   "source": [
    "# create model\n",
    "model = Sequential()\n",
    "model.add(Dense(14, input_dim=11, kernel_initializer='uniform', activation='relu'))\n",
    "model.add(Dense(12,kernel_initializer='uniform', activation='relu'))\n",
    "model.add(Dense(1, kernel_initializer='uniform', activation='sigmoid'))\n",
    "# Compile model\n",
    "model.compile(loss='binary_crossentropy', optimizer='adam', metrics=['accuracy'])\n",
    "# Fit the model\n",
    "hist = model.fit(X_train, y_train, validation_split=0.33, epochs=50, batch_size=10)"
   ]
  },
  {
   "cell_type": "code",
   "execution_count": 33,
   "id": "d04a90a9",
   "metadata": {
    "ExecuteTime": {
     "end_time": "2023-03-23T10:19:49.759729Z",
     "start_time": "2023-03-23T10:19:49.618214Z"
    }
   },
   "outputs": [
    {
     "name": "stdout",
     "output_type": "stream",
     "text": [
      "7/7 [==============================] - 0s 833us/step - loss: 0.0439 - accuracy: 0.9820\n"
     ]
    }
   ],
   "source": [
    "test_loss, test_acc = model.evaluate(X_test, y_test)"
   ]
  },
  {
   "cell_type": "code",
   "execution_count": 34,
   "id": "072f5f92",
   "metadata": {
    "ExecuteTime": {
     "end_time": "2023-03-23T10:19:59.367653Z",
     "start_time": "2023-03-23T10:19:59.352031Z"
    }
   },
   "outputs": [
    {
     "name": "stdout",
     "output_type": "stream",
     "text": [
      "dict_keys(['loss', 'accuracy', 'val_loss', 'val_accuracy'])\n"
     ]
    }
   ],
   "source": [
    "print(hist.history.keys())"
   ]
  },
  {
   "cell_type": "code",
   "execution_count": 35,
   "id": "ab0cc1f6",
   "metadata": {
    "ExecuteTime": {
     "end_time": "2023-03-23T10:20:07.715291Z",
     "start_time": "2023-03-23T10:20:07.683932Z"
    }
   },
   "outputs": [
    {
     "data": {
      "text/html": [
       "<div>\n",
       "<style scoped>\n",
       "    .dataframe tbody tr th:only-of-type {\n",
       "        vertical-align: middle;\n",
       "    }\n",
       "\n",
       "    .dataframe tbody tr th {\n",
       "        vertical-align: top;\n",
       "    }\n",
       "\n",
       "    .dataframe thead th {\n",
       "        text-align: right;\n",
       "    }\n",
       "</style>\n",
       "<table border=\"1\" class=\"dataframe\">\n",
       "  <thead>\n",
       "    <tr style=\"text-align: right;\">\n",
       "      <th></th>\n",
       "      <th>loss</th>\n",
       "      <th>accuracy</th>\n",
       "      <th>val_loss</th>\n",
       "      <th>val_accuracy</th>\n",
       "      <th>epoch</th>\n",
       "    </tr>\n",
       "  </thead>\n",
       "  <tbody>\n",
       "    <tr>\n",
       "      <th>45</th>\n",
       "      <td>0.018391</td>\n",
       "      <td>0.994203</td>\n",
       "      <td>0.019072</td>\n",
       "      <td>0.994152</td>\n",
       "      <td>45</td>\n",
       "    </tr>\n",
       "    <tr>\n",
       "      <th>46</th>\n",
       "      <td>0.155928</td>\n",
       "      <td>0.947826</td>\n",
       "      <td>0.069387</td>\n",
       "      <td>0.982456</td>\n",
       "      <td>46</td>\n",
       "    </tr>\n",
       "    <tr>\n",
       "      <th>47</th>\n",
       "      <td>0.093597</td>\n",
       "      <td>0.962319</td>\n",
       "      <td>0.018375</td>\n",
       "      <td>0.994152</td>\n",
       "      <td>47</td>\n",
       "    </tr>\n",
       "    <tr>\n",
       "      <th>48</th>\n",
       "      <td>0.058065</td>\n",
       "      <td>0.982609</td>\n",
       "      <td>0.079258</td>\n",
       "      <td>0.976608</td>\n",
       "      <td>48</td>\n",
       "    </tr>\n",
       "    <tr>\n",
       "      <th>49</th>\n",
       "      <td>0.057981</td>\n",
       "      <td>0.971014</td>\n",
       "      <td>0.016501</td>\n",
       "      <td>0.994152</td>\n",
       "      <td>49</td>\n",
       "    </tr>\n",
       "  </tbody>\n",
       "</table>\n",
       "</div>"
      ],
      "text/plain": [
       "        loss  accuracy  val_loss  val_accuracy  epoch\n",
       "45  0.018391  0.994203  0.019072      0.994152     45\n",
       "46  0.155928  0.947826  0.069387      0.982456     46\n",
       "47  0.093597  0.962319  0.018375      0.994152     47\n",
       "48  0.058065  0.982609  0.079258      0.976608     48\n",
       "49  0.057981  0.971014  0.016501      0.994152     49"
      ]
     },
     "execution_count": 35,
     "metadata": {},
     "output_type": "execute_result"
    }
   ],
   "source": [
    "hist_df = pd.DataFrame(hist.history)\n",
    "hist_df[\"epoch\"]=hist.epoch\n",
    "hist_df.tail()"
   ]
  },
  {
   "cell_type": "code",
   "execution_count": 36,
   "id": "07caf54c",
   "metadata": {
    "ExecuteTime": {
     "end_time": "2023-03-23T10:20:16.612441Z",
     "start_time": "2023-03-23T10:20:16.406748Z"
    }
   },
   "outputs": [
    {
     "data": {
      "image/png": "[encoded data removed]",
      "text/plain": [
       "<Figure size 600x400 with 1 Axes>"
      ]
     },
     "metadata": {},
     "output_type": "display_data"
    }
   ],
   "source": [
    "# summarize history for accuracy\n",
    "plt.plot(hist.history['accuracy'])\n",
    "plt.plot(hist.history['val_accuracy'])\n",
    "plt.title('model accuracy')\n",
    "plt.ylabel('accuracy')\n",
    "plt.xlabel('epoch')\n",
    "plt.legend(['train', 'test'], loc='upper left')\n",
    "plt.show()"
   ]
  },
  {
   "cell_type": "code",
   "execution_count": 37,
   "id": "ab50794b",
   "metadata": {
    "ExecuteTime": {
     "end_time": "2023-03-23T10:20:28.822269Z",
     "start_time": "2023-03-23T10:20:28.616041Z"
    }
   },
   "outputs": [
    {
     "data": {
      "text/plain": [
       "<matplotlib.legend.Legend at 0x22b83a38550>"
      ]
     },
     "execution_count": 37,
     "metadata": {},
     "output_type": "execute_result"
    },
    {
     "data": {
      "image/png": "[encoded data removed]",
      "text/plain": [
       "<Figure size 600x400 with 1 Axes>"
      ]
     },
     "metadata": {},
     "output_type": "display_data"
    }
   ],
   "source": [
    "# summarize history for loss\n",
    "plt.plot(hist.history['loss'])\n",
    "plt.plot(hist.history['val_loss'])\n",
    "plt.title('model loss')\n",
    "plt.ylabel('loss')\n",
    "plt.xlabel('epoch')\n",
    "plt.legend(['train', 'test'], loc='upper left')"
   ]
  },
  {
   "cell_type": "code",
   "execution_count": 38,
   "id": "30e055f9",
   "metadata": {
    "ExecuteTime": {
     "end_time": "2023-03-23T10:20:47.787618Z",
     "start_time": "2023-03-23T10:20:47.771993Z"
    }
   },
   "outputs": [],
   "source": [
    "# Importing the necessary packages\n",
    "from sklearn.model_selection import GridSearchCV, KFold\n",
    "from keras.models import Sequential\n",
    "from keras.layers import Dense\n",
    "from keras.wrappers.scikit_learn import KerasClassifier\n",
    "from keras.optimizers import Adam"
   ]
  },
  {
   "cell_type": "code",
   "execution_count": 39,
   "id": "eee23b5f",
   "metadata": {
    "ExecuteTime": {
     "end_time": "2023-03-23T10:20:59.535229Z",
     "start_time": "2023-03-23T10:20:59.504188Z"
    }
   },
   "outputs": [],
   "source": [
    "# create model\n",
    "def create_model():\n",
    "    model = Sequential()\n",
    "    model.add(Dense(12, input_dim=8, kernel_initializer='uniform', activation='relu'))\n",
    "    model.add(Dense(8, kernel_initializer='uniform', activation='relu'))\n",
    "    model.add(Dense(1, kernel_initializer='uniform', activation='sigmoid'))\n",
    "    \n",
    "    adam=Adam(lr=0.01)\n",
    "    model.compile(loss='binary_crossentropy', optimizer=adam, metrics=['accuracy'])\n",
    "    return model"
   ]
  },
  {
   "cell_type": "code",
   "execution_count": 40,
   "id": "b67a00c0",
   "metadata": {
    "ExecuteTime": {
     "end_time": "2023-03-23T10:21:06.689926Z",
     "start_time": "2023-03-23T10:21:06.674285Z"
    }
   },
   "outputs": [],
   "source": [
    "from sklearn.preprocessing import StandardScaler\n",
    "a = StandardScaler()\n",
    "a.fit(X)\n",
    "X_standardized = a.transform(X)"
   ]
  },
  {
   "cell_type": "code",
   "execution_count": 41,
   "id": "bbeadb9c",
   "metadata": {
    "ExecuteTime": {
     "end_time": "2023-03-23T10:23:30.144477Z",
     "start_time": "2023-03-23T10:21:19.868707Z"
    }
   },
   "outputs": [
    {
     "name": "stdout",
     "output_type": "stream",
     "text": [
      "Fitting 5 folds for each of 9 candidates, totalling 45 fits\n",
      "[CV 1/5; 1/9] START dropout_rate=0.0, learning_rate=0.001.......................\n",
      "[CV 1/5; 1/9] END dropout_rate=0.0, learning_rate=0.001;, score=0.993 total time=   2.3s\n",
      "[CV 2/5; 1/9] START dropout_rate=0.0, learning_rate=0.001.......................\n",
      "[CV 2/5; 1/9] END dropout_rate=0.0, learning_rate=0.001;, score=1.000 total time=   2.4s\n",
      "[CV 3/5; 1/9] START dropout_rate=0.0, learning_rate=0.001.......................\n",
      "[CV 3/5; 1/9] END dropout_rate=0.0, learning_rate=0.001;, score=0.966 total time=   3.1s\n",
      "[CV 4/5; 1/9] START dropout_rate=0.0, learning_rate=0.001.......................\n",
      "[CV 4/5; 1/9] END dropout_rate=0.0, learning_rate=0.001;, score=0.973 total time=   2.7s\n",
      "[CV 5/5; 1/9] START dropout_rate=0.0, learning_rate=0.001.......................\n",
      "[CV 5/5; 1/9] END dropout_rate=0.0, learning_rate=0.001;, score=0.993 total time=   2.7s\n",
      "[CV 1/5; 2/9] START dropout_rate=0.0, learning_rate=0.01........................\n",
      "[CV 1/5; 2/9] END dropout_rate=0.0, learning_rate=0.01;, score=0.986 total time=   3.0s\n",
      "[CV 2/5; 2/9] START dropout_rate=0.0, learning_rate=0.01........................\n",
      "[CV 2/5; 2/9] END dropout_rate=0.0, learning_rate=0.01;, score=0.939 total time=   2.5s\n",
      "[CV 3/5; 2/9] START dropout_rate=0.0, learning_rate=0.01........................\n",
      "[CV 3/5; 2/9] END dropout_rate=0.0, learning_rate=0.01;, score=0.953 total time=   2.5s\n",
      "[CV 4/5; 2/9] START dropout_rate=0.0, learning_rate=0.01........................\n",
      "[CV 4/5; 2/9] END dropout_rate=0.0, learning_rate=0.01;, score=0.986 total time=   2.6s\n",
      "[CV 5/5; 2/9] START dropout_rate=0.0, learning_rate=0.01........................\n",
      "[CV 5/5; 2/9] END dropout_rate=0.0, learning_rate=0.01;, score=0.959 total time=   2.4s\n",
      "[CV 1/5; 3/9] START dropout_rate=0.0, learning_rate=0.1.........................\n",
      "[CV 1/5; 3/9] END dropout_rate=0.0, learning_rate=0.1;, score=1.000 total time=   2.7s\n",
      "[CV 2/5; 3/9] START dropout_rate=0.0, learning_rate=0.1.........................\n",
      "[CV 2/5; 3/9] END dropout_rate=0.0, learning_rate=0.1;, score=0.966 total time=   2.6s\n",
      "[CV 3/5; 3/9] START dropout_rate=0.0, learning_rate=0.1.........................\n",
      "[CV 3/5; 3/9] END dropout_rate=0.0, learning_rate=0.1;, score=0.966 total time=   2.4s\n",
      "[CV 4/5; 3/9] START dropout_rate=0.0, learning_rate=0.1.........................\n",
      "[CV 4/5; 3/9] END dropout_rate=0.0, learning_rate=0.1;, score=0.986 total time=   2.4s\n",
      "[CV 5/5; 3/9] START dropout_rate=0.0, learning_rate=0.1.........................\n",
      "[CV 5/5; 3/9] END dropout_rate=0.0, learning_rate=0.1;, score=0.993 total time=   2.4s\n",
      "[CV 1/5; 4/9] START dropout_rate=0.1, learning_rate=0.001.......................\n",
      "[CV 1/5; 4/9] END dropout_rate=0.1, learning_rate=0.001;, score=0.993 total time=   2.8s\n",
      "[CV 2/5; 4/9] START dropout_rate=0.1, learning_rate=0.001.......................\n",
      "[CV 2/5; 4/9] END dropout_rate=0.1, learning_rate=0.001;, score=0.993 total time=   2.8s\n",
      "[CV 3/5; 4/9] START dropout_rate=0.1, learning_rate=0.001.......................\n",
      "[CV 3/5; 4/9] END dropout_rate=0.1, learning_rate=0.001;, score=0.959 total time=   2.5s\n",
      "[CV 4/5; 4/9] START dropout_rate=0.1, learning_rate=0.001.......................\n",
      "[CV 4/5; 4/9] END dropout_rate=0.1, learning_rate=0.001;, score=0.986 total time=   2.6s\n",
      "[CV 5/5; 4/9] START dropout_rate=0.1, learning_rate=0.001.......................\n",
      "[CV 5/5; 4/9] END dropout_rate=0.1, learning_rate=0.001;, score=0.993 total time=   2.8s\n",
      "[CV 1/5; 5/9] START dropout_rate=0.1, learning_rate=0.01........................\n",
      "[CV 1/5; 5/9] END dropout_rate=0.1, learning_rate=0.01;, score=0.993 total time=   3.2s\n",
      "[CV 2/5; 5/9] START dropout_rate=0.1, learning_rate=0.01........................\n",
      "[CV 2/5; 5/9] END dropout_rate=0.1, learning_rate=0.01;, score=0.959 total time=   2.7s\n",
      "[CV 3/5; 5/9] START dropout_rate=0.1, learning_rate=0.01........................\n",
      "[CV 3/5; 5/9] END dropout_rate=0.1, learning_rate=0.01;, score=0.905 total time=   2.6s\n",
      "[CV 4/5; 5/9] START dropout_rate=0.1, learning_rate=0.01........................\n",
      "[CV 4/5; 5/9] END dropout_rate=0.1, learning_rate=0.01;, score=0.993 total time=   2.9s\n",
      "[CV 5/5; 5/9] START dropout_rate=0.1, learning_rate=0.01........................\n",
      "[CV 5/5; 5/9] END dropout_rate=0.1, learning_rate=0.01;, score=0.993 total time=   3.1s\n",
      "[CV 1/5; 6/9] START dropout_rate=0.1, learning_rate=0.1.........................\n",
      "[CV 1/5; 6/9] END dropout_rate=0.1, learning_rate=0.1;, score=0.980 total time=   2.6s\n",
      "[CV 2/5; 6/9] START dropout_rate=0.1, learning_rate=0.1.........................\n",
      "[CV 2/5; 6/9] END dropout_rate=0.1, learning_rate=0.1;, score=0.980 total time=   2.5s\n",
      "[CV 3/5; 6/9] START dropout_rate=0.1, learning_rate=0.1.........................\n",
      "[CV 3/5; 6/9] END dropout_rate=0.1, learning_rate=0.1;, score=0.959 total time=   2.8s\n",
      "[CV 4/5; 6/9] START dropout_rate=0.1, learning_rate=0.1.........................\n",
      "[CV 4/5; 6/9] END dropout_rate=0.1, learning_rate=0.1;, score=0.939 total time=   2.5s\n",
      "[CV 5/5; 6/9] START dropout_rate=0.1, learning_rate=0.1.........................\n",
      "[CV 5/5; 6/9] END dropout_rate=0.1, learning_rate=0.1;, score=0.980 total time=   2.6s\n",
      "[CV 1/5; 7/9] START dropout_rate=0.2, learning_rate=0.001.......................\n",
      "[CV 1/5; 7/9] END dropout_rate=0.2, learning_rate=0.001;, score=0.993 total time=   4.3s\n",
      "[CV 2/5; 7/9] START dropout_rate=0.2, learning_rate=0.001.......................\n",
      "[CV 2/5; 7/9] END dropout_rate=0.2, learning_rate=0.001;, score=0.986 total time=   2.6s\n",
      "[CV 3/5; 7/9] START dropout_rate=0.2, learning_rate=0.001.......................\n",
      "[CV 3/5; 7/9] END dropout_rate=0.2, learning_rate=0.001;, score=0.959 total time=   2.3s\n",
      "[CV 4/5; 7/9] START dropout_rate=0.2, learning_rate=0.001.......................\n",
      "[CV 4/5; 7/9] END dropout_rate=0.2, learning_rate=0.001;, score=1.000 total time=   3.4s\n",
      "[CV 5/5; 7/9] START dropout_rate=0.2, learning_rate=0.001.......................\n",
      "[CV 5/5; 7/9] END dropout_rate=0.2, learning_rate=0.001;, score=0.993 total time=   3.5s\n",
      "[CV 1/5; 8/9] START dropout_rate=0.2, learning_rate=0.01........................\n",
      "[CV 1/5; 8/9] END dropout_rate=0.2, learning_rate=0.01;, score=1.000 total time=   3.1s\n",
      "[CV 2/5; 8/9] START dropout_rate=0.2, learning_rate=0.01........................\n",
      "[CV 2/5; 8/9] END dropout_rate=0.2, learning_rate=0.01;, score=0.973 total time=   2.9s\n",
      "[CV 3/5; 8/9] START dropout_rate=0.2, learning_rate=0.01........................\n",
      "[CV 3/5; 8/9] END dropout_rate=0.2, learning_rate=0.01;, score=0.966 total time=   2.3s\n",
      "[CV 4/5; 8/9] START dropout_rate=0.2, learning_rate=0.01........................\n",
      "[CV 4/5; 8/9] END dropout_rate=0.2, learning_rate=0.01;, score=0.986 total time=   2.3s\n",
      "[CV 5/5; 8/9] START dropout_rate=0.2, learning_rate=0.01........................\n",
      "[CV 5/5; 8/9] END dropout_rate=0.2, learning_rate=0.01;, score=0.993 total time=   2.3s\n",
      "[CV 1/5; 9/9] START dropout_rate=0.2, learning_rate=0.1.........................\n",
      "[CV 1/5; 9/9] END dropout_rate=0.2, learning_rate=0.1;, score=0.993 total time=   3.0s\n",
      "[CV 2/5; 9/9] START dropout_rate=0.2, learning_rate=0.1.........................\n",
      "[CV 2/5; 9/9] END dropout_rate=0.2, learning_rate=0.1;, score=0.905 total time=   2.7s\n",
      "[CV 3/5; 9/9] START dropout_rate=0.2, learning_rate=0.1.........................\n",
      "[CV 3/5; 9/9] END dropout_rate=0.2, learning_rate=0.1;, score=0.926 total time=   2.9s\n",
      "[CV 4/5; 9/9] START dropout_rate=0.2, learning_rate=0.1.........................\n",
      "[CV 4/5; 9/9] END dropout_rate=0.2, learning_rate=0.1;, score=0.959 total time=   2.4s\n",
      "[CV 5/5; 9/9] START dropout_rate=0.2, learning_rate=0.1.........................\n",
      "[CV 5/5; 9/9] END dropout_rate=0.2, learning_rate=0.1;, score=0.762 total time=   2.8s\n"
     ]
    }
   ],
   "source": [
    "from keras.layers import Dropout\n",
    "\n",
    "# Defining the model\n",
    "\n",
    "def create_model2(learning_rate,dropout_rate):\n",
    "    model = Sequential()\n",
    "    model.add(Dense(14,input_dim = 11,kernel_initializer = 'uniform',activation = 'relu'))\n",
    "    model.add(Dropout(dropout_rate))\n",
    "    model.add(Dense(12,input_dim = 14,kernel_initializer = 'uniform',activation = 'relu'))\n",
    "    model.add(Dropout(dropout_rate))\n",
    "    model.add(Dense(1,kernel_initializer='uniform',activation = 'sigmoid'))\n",
    "    \n",
    "    adam = Adam(lr = learning_rate)\n",
    "    model.compile(loss = 'binary_crossentropy',optimizer = adam,metrics = ['accuracy'])\n",
    "    return model\n",
    "\n",
    "# Create the model\n",
    "\n",
    "model2 = KerasClassifier(build_fn = create_model2,verbose = 0,batch_size = 20,epochs = 50)\n",
    "\n",
    "# Define the grid search parameters\n",
    "\n",
    "learning_rate = [0.001,0.01,0.1]\n",
    "dropout_rate = [0.0,0.1,0.2]\n",
    "\n",
    "# Make a dictionary of the grid search parameters\n",
    "\n",
    "param_grids2 = dict(learning_rate = learning_rate,dropout_rate = dropout_rate)\n",
    "\n",
    "# Build and fit the GridSearchCV\n",
    "\n",
    "grid2 = GridSearchCV(estimator = model2,param_grid = param_grids2,cv = KFold(),verbose = 10)\n",
    "grid_result2 = grid2.fit(X_standardized,Y)"
   ]
  },
  {
   "cell_type": "code",
   "execution_count": 42,
   "id": "8a43e550",
   "metadata": {
    "ExecuteTime": {
     "end_time": "2023-03-23T10:23:30.160153Z",
     "start_time": "2023-03-23T10:23:30.144477Z"
    }
   },
   "outputs": [
    {
     "name": "stdout",
     "output_type": "stream",
     "text": [
      "Best : 0.9864772915840149, using {'dropout_rate': 0.2, 'learning_rate': 0.001}\n",
      "0.9850891590118408,0.013130443693776092 with: {'dropout_rate': 0.0, 'learning_rate': 0.001}\n",
      "0.9647913336753845,0.0188171761011196 with: {'dropout_rate': 0.0, 'learning_rate': 0.01}\n",
      "0.9824048519134522,0.01390055969218716 with: {'dropout_rate': 0.0, 'learning_rate': 0.1}\n",
      "0.9851075530052185,0.013094284104354486 with: {'dropout_rate': 0.1, 'learning_rate': 0.001}\n",
      "0.9689005255699158,0.03433363786712941 with: {'dropout_rate': 0.1, 'learning_rate': 0.01}\n",
      "0.9674572587013245,0.016340623421390227 with: {'dropout_rate': 0.1, 'learning_rate': 0.1}\n",
      "0.9864772915840149,0.0141687080138675 with: {'dropout_rate': 0.2, 'learning_rate': 0.001}\n",
      "0.9837562084197998,0.012521060454488501 with: {'dropout_rate': 0.2, 'learning_rate': 0.01}\n",
      "0.909082555770874,0.0794270650596458 with: {'dropout_rate': 0.2, 'learning_rate': 0.1}\n"
     ]
    }
   ],
   "source": [
    "# Summarize the results\n",
    "print('Best : {}, using {}'.format(grid_result2.best_score_,grid_result2.best_params_))\n",
    "means2 = grid_result2.cv_results_['mean_test_score']\n",
    "stds2 = grid_result2.cv_results_['std_test_score']\n",
    "params2 = grid_result2.cv_results_['params']\n",
    "for mean, stdev, param in zip(means2, stds2, params2):\n",
    "  print('{},{} with: {}'.format(mean, stdev, param))\n",
    "#Best score for Dropout rate = 0.2 and learning rate is 0.001"
   ]
  },
  {
   "cell_type": "code",
   "execution_count": 43,
   "id": "d850aca6",
   "metadata": {
    "ExecuteTime": {
     "end_time": "2023-03-23T10:26:08.545583Z",
     "start_time": "2023-03-23T10:23:30.161191Z"
    }
   },
   "outputs": [
    {
     "name": "stdout",
     "output_type": "stream",
     "text": [
      "Fitting 5 folds for each of 12 candidates, totalling 60 fits\n",
      "[CV 1/5; 1/12] START activation_function=softmax, init=uniform..................\n",
      "[CV 1/5; 1/12] END activation_function=softmax, init=uniform;, score=0.027 total time=   3.4s\n",
      "[CV 2/5; 1/12] START activation_function=softmax, init=uniform..................\n",
      "[CV 2/5; 1/12] END activation_function=softmax, init=uniform;, score=0.703 total time=   3.1s\n",
      "[CV 3/5; 1/12] START activation_function=softmax, init=uniform..................\n",
      "[CV 3/5; 1/12] END activation_function=softmax, init=uniform;, score=0.493 total time=   3.0s\n",
      "[CV 4/5; 1/12] START activation_function=softmax, init=uniform..................\n",
      "[CV 4/5; 1/12] END activation_function=softmax, init=uniform;, score=0.585 total time=   3.0s\n",
      "[CV 5/5; 1/12] START activation_function=softmax, init=uniform..................\n",
      "[CV 5/5; 1/12] END activation_function=softmax, init=uniform;, score=0.170 total time=   3.0s\n",
      "[CV 1/5; 2/12] START activation_function=softmax, init=normal...................\n",
      "[CV 1/5; 2/12] END activation_function=softmax, init=normal;, score=0.000 total time=   3.4s\n",
      "[CV 2/5; 2/12] START activation_function=softmax, init=normal...................\n",
      "[CV 2/5; 2/12] END activation_function=softmax, init=normal;, score=0.696 total time=   2.5s\n",
      "[CV 3/5; 2/12] START activation_function=softmax, init=normal...................\n",
      "[CV 3/5; 2/12] END activation_function=softmax, init=normal;, score=0.419 total time=   2.7s\n",
      "[CV 4/5; 2/12] START activation_function=softmax, init=normal...................\n",
      "[CV 4/5; 2/12] END activation_function=softmax, init=normal;, score=0.592 total time=   2.8s\n",
      "[CV 5/5; 2/12] START activation_function=softmax, init=normal...................\n",
      "[CV 5/5; 2/12] END activation_function=softmax, init=normal;, score=0.224 total time=   3.0s\n",
      "[CV 1/5; 3/12] START activation_function=softmax, init=zero.....................\n",
      "[CV 1/5; 3/12] END activation_function=softmax, init=zero;, score=0.000 total time=   2.8s\n",
      "[CV 2/5; 3/12] START activation_function=softmax, init=zero.....................\n",
      "[CV 2/5; 3/12] END activation_function=softmax, init=zero;, score=0.723 total time=   2.5s\n",
      "[CV 3/5; 3/12] START activation_function=softmax, init=zero.....................\n",
      "[CV 3/5; 3/12] END activation_function=softmax, init=zero;, score=0.419 total time=   2.4s\n",
      "[CV 4/5; 3/12] START activation_function=softmax, init=zero.....................\n",
      "[CV 4/5; 3/12] END activation_function=softmax, init=zero;, score=0.578 total time=   2.4s\n",
      "[CV 5/5; 3/12] START activation_function=softmax, init=zero.....................\n",
      "[CV 5/5; 3/12] END activation_function=softmax, init=zero;, score=0.000 total time=   2.3s\n",
      "[CV 1/5; 4/12] START activation_function=relu, init=uniform.....................\n",
      "[CV 1/5; 4/12] END activation_function=relu, init=uniform;, score=0.993 total time=   2.4s\n",
      "[CV 2/5; 4/12] START activation_function=relu, init=uniform.....................\n",
      "[CV 2/5; 4/12] END activation_function=relu, init=uniform;, score=0.986 total time=   2.5s\n",
      "[CV 3/5; 4/12] START activation_function=relu, init=uniform.....................\n",
      "[CV 3/5; 4/12] END activation_function=relu, init=uniform;, score=0.973 total time=   2.3s\n",
      "[CV 4/5; 4/12] START activation_function=relu, init=uniform.....................\n",
      "[CV 4/5; 4/12] END activation_function=relu, init=uniform;, score=1.000 total time=   2.3s\n",
      "[CV 5/5; 4/12] START activation_function=relu, init=uniform.....................\n",
      "[CV 5/5; 4/12] END activation_function=relu, init=uniform;, score=0.986 total time=   2.3s\n",
      "[CV 1/5; 5/12] START activation_function=relu, init=normal......................\n",
      "[CV 1/5; 5/12] END activation_function=relu, init=normal;, score=0.993 total time=   2.4s\n",
      "[CV 2/5; 5/12] START activation_function=relu, init=normal......................\n",
      "[CV 2/5; 5/12] END activation_function=relu, init=normal;, score=0.993 total time=   2.4s\n",
      "[CV 3/5; 5/12] START activation_function=relu, init=normal......................\n",
      "[CV 3/5; 5/12] END activation_function=relu, init=normal;, score=0.980 total time=   2.3s\n",
      "[CV 4/5; 5/12] START activation_function=relu, init=normal......................\n",
      "[CV 4/5; 5/12] END activation_function=relu, init=normal;, score=0.986 total time=   2.6s\n",
      "[CV 5/5; 5/12] START activation_function=relu, init=normal......................\n",
      "[CV 5/5; 5/12] END activation_function=relu, init=normal;, score=1.000 total time=   2.5s\n",
      "[CV 1/5; 6/12] START activation_function=relu, init=zero........................\n",
      "[CV 1/5; 6/12] END activation_function=relu, init=zero;, score=0.000 total time=   2.4s\n",
      "[CV 2/5; 6/12] START activation_function=relu, init=zero........................\n",
      "[CV 2/5; 6/12] END activation_function=relu, init=zero;, score=0.493 total time=   2.4s\n",
      "[CV 3/5; 6/12] START activation_function=relu, init=zero........................\n",
      "[CV 3/5; 6/12] END activation_function=relu, init=zero;, score=0.257 total time=   2.8s\n",
      "[CV 4/5; 6/12] START activation_function=relu, init=zero........................\n",
      "[CV 4/5; 6/12] END activation_function=relu, init=zero;, score=0.245 total time=   2.5s\n",
      "[CV 5/5; 6/12] START activation_function=relu, init=zero........................\n",
      "[CV 5/5; 6/12] END activation_function=relu, init=zero;, score=0.000 total time=   2.5s\n",
      "[CV 1/5; 7/12] START activation_function=tanh, init=uniform.....................\n",
      "[CV 1/5; 7/12] END activation_function=tanh, init=uniform;, score=1.000 total time=   2.3s\n",
      "[CV 2/5; 7/12] START activation_function=tanh, init=uniform.....................\n",
      "[CV 2/5; 7/12] END activation_function=tanh, init=uniform;, score=1.000 total time=   2.3s\n",
      "[CV 3/5; 7/12] START activation_function=tanh, init=uniform.....................\n",
      "[CV 3/5; 7/12] END activation_function=tanh, init=uniform;, score=0.980 total time=   2.4s\n",
      "[CV 4/5; 7/12] START activation_function=tanh, init=uniform.....................\n",
      "[CV 4/5; 7/12] END activation_function=tanh, init=uniform;, score=0.986 total time=   2.3s\n",
      "[CV 5/5; 7/12] START activation_function=tanh, init=uniform.....................\n",
      "[CV 5/5; 7/12] END activation_function=tanh, init=uniform;, score=1.000 total time=   2.5s\n",
      "[CV 1/5; 8/12] START activation_function=tanh, init=normal......................\n",
      "[CV 1/5; 8/12] END activation_function=tanh, init=normal;, score=1.000 total time=   2.3s\n",
      "[CV 2/5; 8/12] START activation_function=tanh, init=normal......................\n",
      "[CV 2/5; 8/12] END activation_function=tanh, init=normal;, score=1.000 total time=   2.5s\n",
      "[CV 3/5; 8/12] START activation_function=tanh, init=normal......................\n",
      "[CV 3/5; 8/12] END activation_function=tanh, init=normal;, score=0.980 total time=   2.3s\n",
      "[CV 4/5; 8/12] START activation_function=tanh, init=normal......................\n",
      "[CV 4/5; 8/12] END activation_function=tanh, init=normal;, score=0.986 total time=   2.3s\n",
      "[CV 5/5; 8/12] START activation_function=tanh, init=normal......................\n",
      "[CV 5/5; 8/12] END activation_function=tanh, init=normal;, score=1.000 total time=   2.3s\n",
      "[CV 1/5; 9/12] START activation_function=tanh, init=zero........................\n",
      "[CV 1/5; 9/12] END activation_function=tanh, init=zero;, score=0.000 total time=   2.3s\n",
      "[CV 2/5; 9/12] START activation_function=tanh, init=zero........................\n",
      "[CV 2/5; 9/12] END activation_function=tanh, init=zero;, score=0.507 total time=   2.3s\n",
      "[CV 3/5; 9/12] START activation_function=tanh, init=zero........................\n",
      "[CV 3/5; 9/12] END activation_function=tanh, init=zero;, score=0.257 total time=   2.2s\n",
      "[CV 4/5; 9/12] START activation_function=tanh, init=zero........................\n",
      "[CV 4/5; 9/12] END activation_function=tanh, init=zero;, score=0.245 total time=   2.3s\n",
      "[CV 5/5; 9/12] START activation_function=tanh, init=zero........................\n",
      "[CV 5/5; 9/12] END activation_function=tanh, init=zero;, score=0.000 total time=   2.7s\n",
      "[CV 1/5; 10/12] START activation_function=linear, init=uniform..................\n",
      "[CV 1/5; 10/12] END activation_function=linear, init=uniform;, score=1.000 total time=   2.4s\n",
      "[CV 2/5; 10/12] START activation_function=linear, init=uniform..................\n",
      "[CV 2/5; 10/12] END activation_function=linear, init=uniform;, score=1.000 total time=   2.3s\n",
      "[CV 3/5; 10/12] START activation_function=linear, init=uniform..................\n",
      "[CV 3/5; 10/12] END activation_function=linear, init=uniform;, score=0.973 total time=   2.7s\n",
      "[CV 4/5; 10/12] START activation_function=linear, init=uniform..................\n",
      "[CV 4/5; 10/12] END activation_function=linear, init=uniform;, score=0.980 total time=   2.3s\n",
      "[CV 5/5; 10/12] START activation_function=linear, init=uniform..................\n",
      "[CV 5/5; 10/12] END activation_function=linear, init=uniform;, score=1.000 total time=   2.6s\n",
      "[CV 1/5; 11/12] START activation_function=linear, init=normal...................\n",
      "[CV 1/5; 11/12] END activation_function=linear, init=normal;, score=1.000 total time=   2.4s\n",
      "[CV 2/5; 11/12] START activation_function=linear, init=normal...................\n",
      "[CV 2/5; 11/12] END activation_function=linear, init=normal;, score=1.000 total time=   2.3s\n",
      "[CV 3/5; 11/12] START activation_function=linear, init=normal...................\n",
      "[CV 3/5; 11/12] END activation_function=linear, init=normal;, score=0.973 total time=   2.3s\n",
      "[CV 4/5; 11/12] START activation_function=linear, init=normal...................\n",
      "[CV 4/5; 11/12] END activation_function=linear, init=normal;, score=0.993 total time=   2.2s\n",
      "[CV 5/5; 11/12] START activation_function=linear, init=normal...................\n",
      "[CV 5/5; 11/12] END activation_function=linear, init=normal;, score=0.993 total time=   2.3s\n",
      "[CV 1/5; 12/12] START activation_function=linear, init=zero.....................\n",
      "[CV 1/5; 12/12] END activation_function=linear, init=zero;, score=0.000 total time=   2.3s\n",
      "[CV 2/5; 12/12] START activation_function=linear, init=zero.....................\n",
      "[CV 2/5; 12/12] END activation_function=linear, init=zero;, score=0.507 total time=   2.2s\n",
      "[CV 3/5; 12/12] START activation_function=linear, init=zero.....................\n",
      "[CV 3/5; 12/12] END activation_function=linear, init=zero;, score=0.257 total time=   2.3s\n",
      "[CV 4/5; 12/12] START activation_function=linear, init=zero.....................\n",
      "[CV 4/5; 12/12] END activation_function=linear, init=zero;, score=0.245 total time=   2.4s\n",
      "[CV 5/5; 12/12] START activation_function=linear, init=zero.....................\n",
      "[CV 5/5; 12/12] END activation_function=linear, init=zero;, score=0.000 total time=   2.3s\n"
     ]
    }
   ],
   "source": [
    "# Defining the model\n",
    "\n",
    "def create_model3(activation_function,init):\n",
    "    model = Sequential()\n",
    "    model.add(Dense(14,input_dim = 11,kernel_initializer = init,activation = activation_function))\n",
    "    model.add(Dropout(0.2))\n",
    "    model.add(Dense(12,input_dim = 14,kernel_initializer = init,activation = activation_function))\n",
    "    model.add(Dropout(0.2))\n",
    "    model.add(Dense(1,activation = 'sigmoid'))\n",
    "    \n",
    "    adam = Adam(lr = 0.001)\n",
    "    model.compile(loss = 'binary_crossentropy',optimizer = adam,metrics = ['accuracy'])\n",
    "    return model\n",
    "\n",
    "# Create the model\n",
    "\n",
    "model3 = KerasClassifier(build_fn = create_model3,verbose = 0,batch_size = 20,epochs = 50)\n",
    "\n",
    "# Define the grid search parameters\n",
    "activation_function = ['softmax','relu','tanh','linear']\n",
    "init = ['uniform','normal','zero']\n",
    "\n",
    "# Make a dictionary of the grid search parameters\n",
    "param_grids3 = dict(activation_function = activation_function,init = init)\n",
    "\n",
    "# Build and fit the GridSearchCV\n",
    "\n",
    "grid3 = GridSearchCV(estimator = model3,param_grid = param_grids3,cv = KFold(),verbose = 10)\n",
    "grid_result3 = grid3.fit(X_standardized,Y)"
   ]
  },
  {
   "cell_type": "code",
   "execution_count": 44,
   "id": "c9f6d0db",
   "metadata": {
    "ExecuteTime": {
     "end_time": "2023-03-23T10:26:08.561601Z",
     "start_time": "2023-03-23T10:26:08.549079Z"
    }
   },
   "outputs": [
    {
     "name": "stdout",
     "output_type": "stream",
     "text": [
      "Best : 0.9932248592376709, using {'activation_function': 'tanh', 'init': 'uniform'}\n",
      "0.39561500288546086,0.2555160363808267 with: {'activation_function': 'softmax', 'init': 'uniform'}\n",
      "0.38623827397823335,0.25083865643315434 with: {'activation_function': 'softmax', 'init': 'normal'}\n",
      "0.34402463436126707,0.29690727723261867 with: {'activation_function': 'softmax', 'init': 'zero'}\n",
      "0.9878194570541382,0.008966687978234055 with: {'activation_function': 'relu', 'init': 'uniform'}\n",
      "0.9905221462249756,0.006901471934938278 with: {'activation_function': 'relu', 'init': 'normal'}\n",
      "0.19897959232330323,0.18505326360179106 with: {'activation_function': 'relu', 'init': 'zero'}\n",
      "0.9932248592376709,0.008561299587541043 with: {'activation_function': 'tanh', 'init': 'uniform'}\n",
      "0.9932248592376709,0.008561299587541043 with: {'activation_function': 'tanh', 'init': 'normal'}\n",
      "0.20168229937553406,0.18937937000158478 with: {'activation_function': 'tanh', 'init': 'zero'}\n",
      "0.9905129671096802,0.01180621094592284 with: {'activation_function': 'linear', 'init': 'uniform'}\n",
      "0.9918735027313232,0.009927880041926275 with: {'activation_function': 'linear', 'init': 'normal'}\n",
      "0.20168229937553406,0.18937937000158478 with: {'activation_function': 'linear', 'init': 'zero'}\n"
     ]
    }
   ],
   "source": [
    "# Summarize the results\n",
    "print('Best : {}, using {}'.format(grid_result3.best_score_,grid_result3.best_params_))\n",
    "means3 = grid_result3.cv_results_['mean_test_score']\n",
    "stds3 = grid_result3.cv_results_['std_test_score']\n",
    "params3 = grid_result3.cv_results_['params']\n",
    "for mean, stdev, param in zip(means3, stds3, params3):\n",
    "  print('{},{} with: {}'.format(mean, stdev, param))\n",
    "#best activation function in our case would be Relu and Kernel Initializer is Uniform"
   ]
  },
  {
   "cell_type": "code",
   "execution_count": 45,
   "id": "b8c0a23e",
   "metadata": {
    "ExecuteTime": {
     "end_time": "2023-03-23T10:27:59.662530Z",
     "start_time": "2023-03-23T10:26:08.564990Z"
    }
   },
   "outputs": [
    {
     "name": "stdout",
     "output_type": "stream",
     "text": [
      "Fitting 5 folds for each of 9 candidates, totalling 45 fits\n",
      "[CV 1/5; 1/9] START neuron1=4, neuron2=4........................................\n",
      "[CV 1/5; 1/9] END .........neuron1=4, neuron2=4;, score=0.993 total time=   2.7s\n",
      "[CV 2/5; 1/9] START neuron1=4, neuron2=4........................................\n",
      "[CV 2/5; 1/9] END .........neuron1=4, neuron2=4;, score=0.973 total time=   2.2s\n",
      "[CV 3/5; 1/9] START neuron1=4, neuron2=4........................................\n",
      "[CV 3/5; 1/9] END .........neuron1=4, neuron2=4;, score=0.966 total time=   2.1s\n",
      "[CV 4/5; 1/9] START neuron1=4, neuron2=4........................................\n",
      "[CV 4/5; 1/9] END .........neuron1=4, neuron2=4;, score=0.898 total time=   2.2s\n",
      "[CV 5/5; 1/9] START neuron1=4, neuron2=4........................................\n",
      "[CV 5/5; 1/9] END .........neuron1=4, neuron2=4;, score=0.776 total time=   2.3s\n",
      "[CV 1/5; 2/9] START neuron1=4, neuron2=8........................................\n",
      "[CV 1/5; 2/9] END .........neuron1=4, neuron2=8;, score=0.993 total time=   2.2s\n",
      "[CV 2/5; 2/9] START neuron1=4, neuron2=8........................................\n",
      "[CV 2/5; 2/9] END .........neuron1=4, neuron2=8;, score=0.993 total time=   2.2s\n",
      "[CV 3/5; 2/9] START neuron1=4, neuron2=8........................................\n",
      "[CV 3/5; 2/9] END .........neuron1=4, neuron2=8;, score=0.959 total time=   2.3s\n",
      "[CV 4/5; 2/9] START neuron1=4, neuron2=8........................................\n",
      "[CV 4/5; 2/9] END .........neuron1=4, neuron2=8;, score=0.986 total time=   2.1s\n",
      "[CV 5/5; 2/9] START neuron1=4, neuron2=8........................................\n",
      "[CV 5/5; 2/9] END .........neuron1=4, neuron2=8;, score=0.952 total time=   2.2s\n",
      "[CV 1/5; 3/9] START neuron1=4, neuron2=12.......................................\n",
      "[CV 1/5; 3/9] END ........neuron1=4, neuron2=12;, score=0.993 total time=   2.2s\n",
      "[CV 2/5; 3/9] START neuron1=4, neuron2=12.......................................\n",
      "[CV 2/5; 3/9] END ........neuron1=4, neuron2=12;, score=0.993 total time=   2.5s\n",
      "[CV 3/5; 3/9] START neuron1=4, neuron2=12.......................................\n",
      "[CV 3/5; 3/9] END ........neuron1=4, neuron2=12;, score=0.966 total time=   2.5s\n",
      "[CV 4/5; 3/9] START neuron1=4, neuron2=12.......................................\n",
      "[CV 4/5; 3/9] END ........neuron1=4, neuron2=12;, score=0.986 total time=   2.2s\n",
      "[CV 5/5; 3/9] START neuron1=4, neuron2=12.......................................\n",
      "[CV 5/5; 3/9] END ........neuron1=4, neuron2=12;, score=0.918 total time=   2.3s\n",
      "[CV 1/5; 4/9] START neuron1=8, neuron2=4........................................\n",
      "[CV 1/5; 4/9] END .........neuron1=8, neuron2=4;, score=1.000 total time=   2.5s\n",
      "[CV 2/5; 4/9] START neuron1=8, neuron2=4........................................\n",
      "[CV 2/5; 4/9] END .........neuron1=8, neuron2=4;, score=0.993 total time=   2.2s\n",
      "[CV 3/5; 4/9] START neuron1=8, neuron2=4........................................\n",
      "[CV 3/5; 4/9] END .........neuron1=8, neuron2=4;, score=0.973 total time=   2.6s\n",
      "[CV 4/5; 4/9] START neuron1=8, neuron2=4........................................\n",
      "[CV 4/5; 4/9] END .........neuron1=8, neuron2=4;, score=0.986 total time=   2.3s\n",
      "[CV 5/5; 4/9] START neuron1=8, neuron2=4........................................\n",
      "[CV 5/5; 4/9] END .........neuron1=8, neuron2=4;, score=0.959 total time=   2.2s\n",
      "[CV 1/5; 5/9] START neuron1=8, neuron2=8........................................\n",
      "[CV 1/5; 5/9] END .........neuron1=8, neuron2=8;, score=1.000 total time=   2.1s\n",
      "[CV 2/5; 5/9] START neuron1=8, neuron2=8........................................\n",
      "[CV 2/5; 5/9] END .........neuron1=8, neuron2=8;, score=1.000 total time=   2.2s\n",
      "[CV 3/5; 5/9] START neuron1=8, neuron2=8........................................\n",
      "[CV 3/5; 5/9] END .........neuron1=8, neuron2=8;, score=0.966 total time=   2.2s\n",
      "[CV 4/5; 5/9] START neuron1=8, neuron2=8........................................\n",
      "[CV 4/5; 5/9] END .........neuron1=8, neuron2=8;, score=0.986 total time=   2.3s\n",
      "[CV 5/5; 5/9] START neuron1=8, neuron2=8........................................\n",
      "[CV 5/5; 5/9] END .........neuron1=8, neuron2=8;, score=0.980 total time=   2.1s\n",
      "[CV 1/5; 6/9] START neuron1=8, neuron2=12.......................................\n",
      "[CV 1/5; 6/9] END ........neuron1=8, neuron2=12;, score=1.000 total time=   2.2s\n",
      "[CV 2/5; 6/9] START neuron1=8, neuron2=12.......................................\n",
      "[CV 2/5; 6/9] END ........neuron1=8, neuron2=12;, score=0.993 total time=   2.3s\n",
      "[CV 3/5; 6/9] START neuron1=8, neuron2=12.......................................\n",
      "[CV 3/5; 6/9] END ........neuron1=8, neuron2=12;, score=0.973 total time=   2.2s\n",
      "[CV 4/5; 6/9] START neuron1=8, neuron2=12.......................................\n",
      "[CV 4/5; 6/9] END ........neuron1=8, neuron2=12;, score=0.986 total time=   2.2s\n",
      "[CV 5/5; 6/9] START neuron1=8, neuron2=12.......................................\n",
      "[CV 5/5; 6/9] END ........neuron1=8, neuron2=12;, score=0.980 total time=   2.4s\n",
      "[CV 1/5; 7/9] START neuron1=14, neuron2=4.......................................\n",
      "[CV 1/5; 7/9] END ........neuron1=14, neuron2=4;, score=1.000 total time=   2.3s\n",
      "[CV 2/5; 7/9] START neuron1=14, neuron2=4.......................................\n",
      "[CV 2/5; 7/9] END ........neuron1=14, neuron2=4;, score=0.959 total time=   2.3s\n",
      "[CV 3/5; 7/9] START neuron1=14, neuron2=4.......................................\n",
      "[CV 3/5; 7/9] END ........neuron1=14, neuron2=4;, score=0.973 total time=   2.3s\n",
      "[CV 4/5; 7/9] START neuron1=14, neuron2=4.......................................\n",
      "[CV 4/5; 7/9] END ........neuron1=14, neuron2=4;, score=0.980 total time=   2.3s\n",
      "[CV 5/5; 7/9] START neuron1=14, neuron2=4.......................................\n",
      "[CV 5/5; 7/9] END ........neuron1=14, neuron2=4;, score=0.993 total time=   2.7s\n",
      "[CV 1/5; 8/9] START neuron1=14, neuron2=8.......................................\n",
      "[CV 1/5; 8/9] END ........neuron1=14, neuron2=8;, score=0.993 total time=   2.4s\n",
      "[CV 2/5; 8/9] START neuron1=14, neuron2=8.......................................\n",
      "[CV 2/5; 8/9] END ........neuron1=14, neuron2=8;, score=0.993 total time=   2.3s\n",
      "[CV 3/5; 8/9] START neuron1=14, neuron2=8.......................................\n",
      "[CV 3/5; 8/9] END ........neuron1=14, neuron2=8;, score=0.973 total time=   2.4s\n",
      "[CV 4/5; 8/9] START neuron1=14, neuron2=8.......................................\n",
      "[CV 4/5; 8/9] END ........neuron1=14, neuron2=8;, score=0.993 total time=   2.3s\n",
      "[CV 5/5; 8/9] START neuron1=14, neuron2=8.......................................\n",
      "[CV 5/5; 8/9] END ........neuron1=14, neuron2=8;, score=0.993 total time=   2.4s\n",
      "[CV 1/5; 9/9] START neuron1=14, neuron2=12......................................\n",
      "[CV 1/5; 9/9] END .......neuron1=14, neuron2=12;, score=0.993 total time=   2.4s\n",
      "[CV 2/5; 9/9] START neuron1=14, neuron2=12......................................\n",
      "[CV 2/5; 9/9] END .......neuron1=14, neuron2=12;, score=0.993 total time=   2.3s\n",
      "[CV 3/5; 9/9] START neuron1=14, neuron2=12......................................\n",
      "[CV 3/5; 9/9] END .......neuron1=14, neuron2=12;, score=0.973 total time=   2.3s\n",
      "[CV 4/5; 9/9] START neuron1=14, neuron2=12......................................\n",
      "[CV 4/5; 9/9] END .......neuron1=14, neuron2=12;, score=0.986 total time=   2.3s\n",
      "[CV 5/5; 9/9] START neuron1=14, neuron2=12......................................\n",
      "[CV 5/5; 9/9] END .......neuron1=14, neuron2=12;, score=1.000 total time=   2.4s\n"
     ]
    }
   ],
   "source": [
    "# Defining the model\n",
    "\n",
    "def create_model4(neuron1,neuron2):\n",
    "    model = Sequential()\n",
    "    model.add(Dense(neuron1,input_dim = 11,kernel_initializer = 'uniform',activation = 'relu'))\n",
    "    model.add(Dropout(0.2))\n",
    "    model.add(Dense(neuron2,input_dim = neuron1,kernel_initializer = 'uniform',activation = 'relu'))\n",
    "    model.add(Dropout(0.2))\n",
    "    model.add(Dense(1,activation = 'sigmoid'))\n",
    "    \n",
    "    adam = Adam(lr = 0.001)\n",
    "    model.compile(loss = 'binary_crossentropy',optimizer = adam,metrics = ['accuracy'])\n",
    "    return model\n",
    "\n",
    "# Create the model\n",
    "\n",
    "model4 = KerasClassifier(build_fn = create_model4,verbose = 0,batch_size = 20,epochs = 50)\n",
    "\n",
    "# Define the grid search parameters\n",
    "\n",
    "neuron1 = [4,8,14]\n",
    "neuron2 = [4,8,12]\n",
    "\n",
    "# Make a dictionary of the grid search parameters\n",
    "\n",
    "param_grids4 = dict(neuron1 = neuron1,neuron2 = neuron2)\n",
    "\n",
    "# Build and fit the GridSearchCV\n",
    "\n",
    "grid4 = GridSearchCV(estimator = model4,param_grid = param_grids4,cv = KFold(),verbose = 10)\n",
    "grid_result4 = grid4.fit(X_standardized,Y)"
   ]
  },
  {
   "cell_type": "code",
   "execution_count": 46,
   "id": "946602f2",
   "metadata": {
    "ExecuteTime": {
     "end_time": "2023-03-23T10:27:59.678373Z",
     "start_time": "2023-03-23T10:27:59.662530Z"
    }
   },
   "outputs": [
    {
     "name": "stdout",
     "output_type": "stream",
     "text": [
      "Best : 0.9891708016395568, using {'neuron1': 14, 'neuron2': 12}\n",
      "0.9211803555488587,0.07957735951376728 with: {'neuron1': 4, 'neuron2': 4}\n",
      "0.9769442915916443,0.017491106327921783 with: {'neuron1': 4, 'neuron2': 8}\n",
      "0.9714929103851319,0.02834919007771639 with: {'neuron1': 4, 'neuron2': 12}\n",
      "0.9823588967323303,0.014636591605595165 with: {'neuron1': 8, 'neuron2': 4}\n",
      "0.9864405274391175,0.012834705212931593 with: {'neuron1': 8, 'neuron2': 8}\n",
      "0.9864405274391175,0.009575145106024547 with: {'neuron1': 8, 'neuron2': 12}\n",
      "0.9810443162918091,0.014423404827197889 with: {'neuron1': 14, 'neuron2': 4}\n",
      "0.9891707897186279,0.008098926394220147 with: {'neuron1': 14, 'neuron2': 8}\n",
      "0.9891708016395568,0.00917079269770246 with: {'neuron1': 14, 'neuron2': 12}\n"
     ]
    }
   ],
   "source": [
    "# Summarize the results\n",
    "print('Best : {}, using {}'.format(grid_result4.best_score_,grid_result4.best_params_))\n",
    "means4 = grid_result4.cv_results_['mean_test_score']\n",
    "stds4 = grid_result4.cv_results_['std_test_score']\n",
    "params4 = grid_result4.cv_results_['params']\n",
    "for mean, stdev, param in zip(means4, stds4, params4):\n",
    "  print('{},{} with: {}'.format(mean, stdev, param))\n",
    "\n",
    "#Best results are Neuron 1 = 4 and Neuron 2 = 4"
   ]
  },
  {
   "cell_type": "code",
   "execution_count": 47,
   "id": "3476168b",
   "metadata": {
    "ExecuteTime": {
     "end_time": "2023-03-23T10:28:01.798711Z",
     "start_time": "2023-03-23T10:27:59.680042Z"
    }
   },
   "outputs": [],
   "source": [
    "# Defining the model\n",
    "\n",
    "def create_model_fnl():\n",
    "    model = Sequential()\n",
    "    model.add(Dense(4,input_dim = 11,kernel_initializer = 'uniform',activation = 'relu'))\n",
    "    model.add(Dropout(0.2))\n",
    "    model.add(Dense(4,input_dim = 4,kernel_initializer = 'uniform',activation = 'relu'))\n",
    "    model.add(Dropout(0.2))\n",
    "    model.add(Dense(1,activation = 'sigmoid'))\n",
    "    \n",
    "    adam = Adam(lr = 0.001) #sgd = SGD(lr=learning_rate, momentum=momentum, decay=decay_rate, nesterov=False)\n",
    "    model.compile(loss = 'binary_crossentropy',optimizer = adam,metrics = ['accuracy'])\n",
    "    return model\n",
    "\n",
    "# Create the model\n",
    "model_fnl = KerasClassifier(build_fn = create_model_fnl,verbose = 0,batch_size = 20,epochs = 50)\n",
    "#Making training and Testing Data\n",
    "X_train_1, X_test_1, y_train_1, y_test_1 = train_test_split(X_standardized,Y, test_size = 0.3)\n",
    "# Fitting the model\n",
    "hist2 = model_fnl.fit(X_train_1,y_train_1)"
   ]
  },
  {
   "cell_type": "code",
   "execution_count": 48,
   "id": "d1941989",
   "metadata": {
    "ExecuteTime": {
     "end_time": "2023-03-23T10:28:01.940857Z",
     "start_time": "2023-03-23T10:28:01.800174Z"
    }
   },
   "outputs": [
    {
     "name": "stdout",
     "output_type": "stream",
     "text": [
      "7/7 [==============================] - 0s 0s/step\n",
      "[[106   8]\n",
      " [  0 108]]\n",
      "              precision    recall  f1-score   support\n",
      "\n",
      "           0       1.00      0.93      0.96       114\n",
      "           1       0.93      1.00      0.96       108\n",
      "\n",
      "    accuracy                           0.96       222\n",
      "   macro avg       0.97      0.96      0.96       222\n",
      "weighted avg       0.97      0.96      0.96       222\n",
      "\n"
     ]
    }
   ],
   "source": [
    "from sklearn.metrics import confusion_matrix,classification_report,plot_confusion_matrix\n",
    "def report_model(model):\n",
    "    model_preds = model.predict(X_test_1)\n",
    "    print(confusion_matrix(y_test_1,model_preds))\n",
    "    print(classification_report(y_test_1,model_preds))\n",
    "report_model(model_fnl)"
   ]
  },
  {
   "cell_type": "code",
   "execution_count": null,
   "id": "44451ff1",
   "metadata": {},
   "outputs": [],
   "source": []
  }
 ],
 "metadata": {
  "kernelspec": {
   "display_name": "Python 3 (ipykernel)",
   "language": "python",
   "name": "python3"
  },
  "language_info": {
   "codemirror_mode": {
    "name": "ipython",
    "version": 3
   },
   "file_extension": ".py",
   "mimetype": "text/x-python",
   "name": "python",
   "nbconvert_exporter": "python",
   "pygments_lexer": "ipython3",
   "version": "3.9.13"
  }
 },
 "nbformat": 4,
 "nbformat_minor": 5
}
